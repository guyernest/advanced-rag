{
 "cells": [
  {
   "cell_type": "markdown",
   "metadata": {},
   "source": [
    "# Advanced Chunking Exercise\n",
    "\n",
    "You will implement a RAG application for long and messy legal documents. You will implement the best practices you learned so far, including semantic chunking, and chunk enrichment. Then, you will implement semantic search and response generation with citation to the original documents."
   ]
  },
  {
   "cell_type": "markdown",
   "metadata": {},
   "source": [
    "### Visual improvements\n",
    "\n",
    "We will use [rich library](https://github.com/Textualize/rich) to make the output more readable, and supress warning messages."
   ]
  },
  {
   "cell_type": "code",
   "execution_count": 1,
   "metadata": {},
   "outputs": [],
   "source": [
    "from rich.console import Console\n",
    "from rich_theme_manager import Theme, ThemeManager\n",
    "import pathlib\n",
    "\n",
    "theme_dir = pathlib.Path(\"../themes\")\n",
    "theme_manager = ThemeManager(theme_dir=theme_dir)\n",
    "dark = theme_manager.get(\"dark\")\n",
    "\n",
    "# Create a console with the dark theme\n",
    "console = Console(theme=dark)"
   ]
  },
  {
   "cell_type": "code",
   "execution_count": 2,
   "metadata": {},
   "outputs": [],
   "source": [
    "import warnings\n",
    "\n",
    "# Suppress warnings\n",
    "warnings.filterwarnings('ignore')"
   ]
  },
  {
   "cell_type": "markdown",
   "metadata": {},
   "source": [
    "## Loading complex PDF documents\n",
    "\n",
    "You will load a complex legal PDF document from the [case.law](https://case.law/) website. This website has millions of legal documents, and we will load a random PDF file from that site with more than 1,000 pages. \n",
    "\n",
    "To parse the PDF file you will use a PDF processor library, [pymupdf4llm](https://pymupdf.readthedocs.io/en/latest/pymupdf4llm/), which makes it easy to extract text and other media from PDF files for RAG applications. "
   ]
  },
  {
   "cell_type": "code",
   "execution_count": null,
   "metadata": {},
   "outputs": [],
   "source": [
    "import pymupdf4llm\n",
    "\n",
    "import requests\n",
    "import os\n",
    "\n",
    "random_doc_number = 196\n",
    "url = f\"https://static.case.law/wash-app/{random_doc_number}.pdf\"\n",
    "response = requests.get(url)\n",
    "\n",
    "data_folder = \"data\"\n",
    "if not os.path.exists(data_folder):\n",
    "    os.makedirs(data_folder)\n",
    "\n",
    "with open(os.path.join(data_folder, f\"{{random_doc_number}}.pdf\"), \"wb\") as file:\n",
    "    file.write(response.content)\n",
    "\n",
    "md_text = pymupdf4llm.to_markdown(f\"data/{{random_doc_number}}.pdf\", page_chunks=True)"
   ]
  },
  {
   "cell_type": "markdown",
   "metadata": {},
   "source": [
    "### Show a ramdom page from the document\n",
    "\n",
    "Let's check a random page from the PDF document and print its image and the extracted text."
   ]
  },
  {
   "cell_type": "code",
   "execution_count": 4,
   "metadata": {},
   "outputs": [
    {
     "data": {
      "text/html": [
       "\n",
       "<div style=\"display: flex; align-items: center;\">\n",
       "    <div style=\"flex: 60%; padding: 5px;\">\n",
       "        <img src=\"random_page.png\" style=\"max-width: 100%; height: auto;\"/>\n",
       "    </div>\n",
       "    <div style=\"flex: 40%; padding: 5px;\">\n",
       "        \n",
       "<h3>Extracted Text</h3>\n",
       "<p>trial court that the jury authorized only this latter crime as\n",
       "\n",
       "a basis for sentencing.21\n",
       "\n",
       "      - 4 The State argues that Morales’s reliance on Wil-\n",
       "\n",
       "liams-Walker is misplaced because CrR 7.8 was not dis-\n",
       "\n",
       "cussed in that case. That is the court rule on which the trial\n",
       "\n",
       "court relied to correct the jury verdict. This argument is not\n",
       "\n",
       "convincing.\n",
       "\n",
       "       - 5 First, the fact that the supreme court did not discuss\n",
       "\n",
       "CrR 7.8 in Williams-Walker is not a persuasive distinguish-\n",
       "\n",
       "ing factor. There, the court held that the jury trial right\n",
       "\n",
       "included the right to be sentenced only on a basis autho-\n",
       "\n",
       "rized by a jury’s verdict. It did so on facts that are not\n",
       "\n",
       "materially distinguishable from those here.\n",
       "\n",
       "      - 6 There, the jury verdict forms stated the “deadly\n",
       "\n",
       "weapon” enhancement, not the more serious “firearm” en-\n",
       "\n",
       "hancement. Trial courts in some of the cases sentenced on\n",
       "\n",
       "the basis of the latter, not the former, enhancement. The\n",
       "\n",
       "court held that was error.\n",
       "\n",
       "     - 7 Here, the jury verdict stated Child Molestation in\n",
       "\n",
       "the Second Degree, not the more serious Child Molestation\n",
       "\n",
       "in the First Degree. The trial court sentenced on the basis of\n",
       "\n",
       "the more serious crime, not the one in the jury verdict.\n",
       "\n",
       "     - 8 The underlying principle is the same: the jury ver-\n",
       "\n",
       "dict authorized only a sentence based on that verdict. The\n",
       "\n",
       "court based the sentence on a crime not authorized by the\n",
       "\n",
       "jury verdict.\n",
       "\n",
       "     - 9 Second, we deal later in this opinion with the ques-\n",
       "\n",
       "tion whether CrR 7.8 is a proper remedy to correct an\n",
       "\n",
       "arguably erroneous jury verdict. That discussion deals more\n",
       "\n",
       "fully with the State’s argument.\n",
       "\n",
       "     - 0 Given that there was an arguably erroneous jury\n",
       "\n",
       "verdict, we must decide whether the court had the authority\n",
       "\n",
       "to change it. Two supreme court cases provide guidance.\n",
       "\n",
       "\n",
       "-----\n",
       "\n",
       "</p>\n",
       "\n",
       "    </div>\n",
       "</div>\n"
      ],
      "text/plain": [
       "<IPython.core.display.HTML object>"
      ]
     },
     "metadata": {},
     "output_type": "display_data"
    }
   ],
   "source": [
    "import fitz\n",
    "from IPython.display import display, HTML\n",
    "\n",
    "random_page_number = 149\n",
    "## Convert the PDF to an PNG image\n",
    "pdf_path = \"data/196.pdf\"\n",
    "pdf_document = fitz.open(pdf_path)\n",
    "page = pdf_document.load_page(random_page_number)  # Page numbering starts from 0\n",
    "pix = page.get_pixmap()\n",
    "pix.save(\"random_page.png\")\n",
    "pdf_document.close()\n",
    "\n",
    "# Text content\n",
    "text_content = f\"\"\"\n",
    "<h3>Extracted Text</h3>\n",
    "<p>{md_text[random_page_number][\"text\"]}</p>\n",
    "\"\"\"\n",
    "\n",
    "# HTML layout for two columns to show the image and text side by side\n",
    "html_content = f\"\"\"\n",
    "<div style=\"display: flex; align-items: center;\">\n",
    "    <div style=\"flex: 60%; padding: 5px;\">\n",
    "        <img src=\"{'random_page.png'}\" style=\"max-width: 100%; height: auto;\"/>\n",
    "    </div>\n",
    "    <div style=\"flex: 40%; padding: 5px;\">\n",
    "        {text_content}\n",
    "    </div>\n",
    "</div>\n",
    "\"\"\"\n",
    "\n",
    "# Display in Jupyter notebook\n",
    "display(HTML(html_content))"
   ]
  },
  {
   "cell_type": "markdown",
   "metadata": {},
   "source": [
    "You can see that the PDF processor extracts additional information on the document such as title, page count, etc. We can use this metadata for the metadata of our chunks in the vector database."
   ]
  },
  {
   "cell_type": "code",
   "execution_count": 5,
   "metadata": {},
   "outputs": [
    {
     "data": {
      "text/html": [
       "<pre style=\"white-space:pre;overflow-x:auto;line-height:normal;font-family:Menlo,'DejaVu Sans Mono',consolas,'Courier New',monospace\"><span style=\"font-weight: bold\">{</span>\n",
       "    <span style=\"color: #00ff00; text-decoration-color: #00ff00\">'metadata'</span>: <span style=\"font-weight: bold\">{</span>\n",
       "        <span style=\"color: #00ff00; text-decoration-color: #00ff00\">'format'</span>: <span style=\"color: #00ff00; text-decoration-color: #00ff00\">'PDF 1.3'</span>,\n",
       "        <span style=\"color: #00ff00; text-decoration-color: #00ff00\">'title'</span>: <span style=\"color: #00ff00; text-decoration-color: #00ff00\">'Washington Appellate Reports volume 196'</span>,\n",
       "        <span style=\"color: #00ff00; text-decoration-color: #00ff00\">'author'</span>: <span style=\"color: #00ff00; text-decoration-color: #00ff00\">'anonymous'</span>,\n",
       "        <span style=\"color: #00ff00; text-decoration-color: #00ff00\">'subject'</span>: <span style=\"color: #00ff00; text-decoration-color: #00ff00\">'unspecified'</span>,\n",
       "        <span style=\"color: #00ff00; text-decoration-color: #00ff00\">'keywords'</span>: <span style=\"color: #00ff00; text-decoration-color: #00ff00\">''</span>,\n",
       "        <span style=\"color: #00ff00; text-decoration-color: #00ff00\">'creator'</span>: <span style=\"color: #00ff00; text-decoration-color: #00ff00\">'Harvard Library Innovation Lab'</span>,\n",
       "        <span style=\"color: #00ff00; text-decoration-color: #00ff00\">'producer'</span>: <span style=\"color: #00ff00; text-decoration-color: #00ff00\">'ReportLab PDF Library - www.reportlab.com'</span>,\n",
       "        <span style=\"color: #00ff00; text-decoration-color: #00ff00\">'creationDate'</span>: <span style=\"color: #00ff00; text-decoration-color: #00ff00\">\"D:20190924090929+00'00'\"</span>,\n",
       "        <span style=\"color: #00ff00; text-decoration-color: #00ff00\">'modDate'</span>: <span style=\"color: #00ff00; text-decoration-color: #00ff00\">\"D:20190924090929+00'00'\"</span>,\n",
       "        <span style=\"color: #00ff00; text-decoration-color: #00ff00\">'trapped'</span>: <span style=\"color: #00ff00; text-decoration-color: #00ff00\">''</span>,\n",
       "        <span style=\"color: #00ff00; text-decoration-color: #00ff00\">'encryption'</span>: <span style=\"color: #dfdfdf; text-decoration-color: #dfdfdf\">None</span>,\n",
       "        <span style=\"color: #00ff00; text-decoration-color: #00ff00\">'file_path'</span>: <span style=\"color: #00ff00; text-decoration-color: #00ff00\">'data/</span><span style=\"color: #00ff00; text-decoration-color: #00ff00; font-weight: bold\">{</span><span style=\"color: #00ff00; text-decoration-color: #00ff00\">random_doc_number</span><span style=\"color: #00ff00; text-decoration-color: #00ff00; font-weight: bold\">}</span><span style=\"color: #00ff00; text-decoration-color: #00ff00\">.pdf'</span>,\n",
       "        <span style=\"color: #00ff00; text-decoration-color: #00ff00\">'page_count'</span>: <span style=\"color: #ff0000; text-decoration-color: #ff0000\">1118</span>,\n",
       "        <span style=\"color: #00ff00; text-decoration-color: #00ff00\">'page'</span>: <span style=\"color: #ff0000; text-decoration-color: #ff0000\">150</span>\n",
       "    <span style=\"font-weight: bold\">}</span>,\n",
       "    <span style=\"color: #00ff00; text-decoration-color: #00ff00\">'toc_items'</span>: <span style=\"font-weight: bold\">[]</span>,\n",
       "    <span style=\"color: #00ff00; text-decoration-color: #00ff00\">'tables'</span>: <span style=\"font-weight: bold\">[]</span>,\n",
       "    <span style=\"color: #00ff00; text-decoration-color: #00ff00\">'images'</span>: <span style=\"font-weight: bold\">[</span>\n",
       "        <span style=\"font-weight: bold\">{</span>\n",
       "            <span style=\"color: #00ff00; text-decoration-color: #00ff00\">'number'</span>: <span style=\"color: #ff0000; text-decoration-color: #ff0000\">0</span>,\n",
       "            <span style=\"color: #00ff00; text-decoration-color: #00ff00\">'bbox'</span>: <span style=\"color: #ffff00; text-decoration-color: #ffff00\">Rect</span><span style=\"font-weight: bold\">(</span><span style=\"color: #ff0000; text-decoration-color: #ff0000\">0.0</span>, <span style=\"color: #ff0000; text-decoration-color: #ff0000\">50.0</span>, <span style=\"color: #ff0000; text-decoration-color: #ff0000\">396.0</span>, <span style=\"color: #ff0000; text-decoration-color: #ff0000\">561.760009765625</span><span style=\"font-weight: bold\">)</span>,\n",
       "            <span style=\"color: #00ff00; text-decoration-color: #00ff00\">'transform'</span>: <span style=\"font-weight: bold\">(</span><span style=\"color: #ff0000; text-decoration-color: #ff0000\">396.0</span>, <span style=\"color: #ff0000; text-decoration-color: #ff0000\">0.0</span>, <span style=\"color: #ff0000; text-decoration-color: #ff0000\">-0.0</span>, <span style=\"color: #ff0000; text-decoration-color: #ff0000\">611.760009765625</span>, <span style=\"color: #ff0000; text-decoration-color: #ff0000\">0.0</span>, <span style=\"color: #ff0000; text-decoration-color: #ff0000\">0.0</span><span style=\"font-weight: bold\">)</span>,\n",
       "            <span style=\"color: #00ff00; text-decoration-color: #00ff00\">'width'</span>: <span style=\"color: #ff0000; text-decoration-color: #ff0000\">1650</span>,\n",
       "            <span style=\"color: #00ff00; text-decoration-color: #00ff00\">'height'</span>: <span style=\"color: #ff0000; text-decoration-color: #ff0000\">2549</span>,\n",
       "            <span style=\"color: #00ff00; text-decoration-color: #00ff00\">'colorspace'</span>: <span style=\"color: #ff0000; text-decoration-color: #ff0000\">1</span>,\n",
       "            <span style=\"color: #00ff00; text-decoration-color: #00ff00\">'cs-name'</span>: <span style=\"color: #00ff00; text-decoration-color: #00ff00\">'DeviceGray'</span>,\n",
       "            <span style=\"color: #00ff00; text-decoration-color: #00ff00\">'xres'</span>: <span style=\"color: #ff0000; text-decoration-color: #ff0000\">96</span>,\n",
       "            <span style=\"color: #00ff00; text-decoration-color: #00ff00\">'yres'</span>: <span style=\"color: #ff0000; text-decoration-color: #ff0000\">96</span>,\n",
       "            <span style=\"color: #00ff00; text-decoration-color: #00ff00\">'bpc'</span>: <span style=\"color: #ff0000; text-decoration-color: #ff0000\">1</span>,\n",
       "            <span style=\"color: #00ff00; text-decoration-color: #00ff00\">'size'</span>: <span style=\"color: #ff0000; text-decoration-color: #ff0000\">37219</span>\n",
       "        <span style=\"font-weight: bold\">}</span>\n",
       "    <span style=\"font-weight: bold\">]</span>,\n",
       "    <span style=\"color: #00ff00; text-decoration-color: #00ff00\">'graphics'</span>: <span style=\"font-weight: bold\">[]</span>,\n",
       "    <span style=\"color: #00ff00; text-decoration-color: #00ff00\">'text'</span>: <span style=\"color: #00ff00; text-decoration-color: #00ff00\">'trial court that the jury authorized only this latter crime as\\n\\na basis for sentencing.21\\n\\n      -</span>\n",
       "<span style=\"color: #00ff00; text-decoration-color: #00ff00\">4 The State argues that Morales’s reliance on Wil-\\n\\nliams-Walker is misplaced because CrR 7.8 was not </span>\n",
       "<span style=\"color: #00ff00; text-decoration-color: #00ff00\">dis-\\n\\ncussed in that case. That is the court rule on which the trial\\n\\ncourt relied to correct the jury verdict.</span>\n",
       "<span style=\"color: #00ff00; text-decoration-color: #00ff00\">This argument is not\\n\\nconvincing.\\n\\n       - 5 First, the fact that the supreme court did not discuss\\n\\nCrR 7.8</span>\n",
       "<span style=\"color: #00ff00; text-decoration-color: #00ff00\">in Williams-Walker is not a persuasive distinguish-\\n\\ning factor. There, the court held that the jury trial </span>\n",
       "<span style=\"color: #00ff00; text-decoration-color: #00ff00\">right\\n\\nincluded the right to be sentenced only on a basis autho-\\n\\nrized by a jury’s verdict. It did so on facts</span>\n",
       "<span style=\"color: #00ff00; text-decoration-color: #00ff00\">that are not\\n\\nmaterially distinguishable from those here.\\n\\n      - 6 There, the jury verdict forms stated the </span>\n",
       "<span style=\"color: #00ff00; text-decoration-color: #00ff00\">“deadly\\n\\nweapon” enhancement, not the more serious “firearm” en-\\n\\nhancement. Trial courts in some of the cases </span>\n",
       "<span style=\"color: #00ff00; text-decoration-color: #00ff00\">sentenced on\\n\\nthe basis of the latter, not the former, enhancement. The\\n\\ncourt held that was error.\\n\\n     - 7</span>\n",
       "<span style=\"color: #00ff00; text-decoration-color: #00ff00\">Here, the jury verdict stated Child Molestation in\\n\\nthe Second Degree, not the more serious Child </span>\n",
       "<span style=\"color: #00ff00; text-decoration-color: #00ff00\">Molestation\\n\\nin the First Degree. The trial court sentenced on the basis of\\n\\nthe more serious crime, not the </span>\n",
       "<span style=\"color: #00ff00; text-decoration-color: #00ff00\">one in the jury verdict.\\n\\n     - 8 The underlying principle is the same: the jury ver-\\n\\ndict authorized only a </span>\n",
       "<span style=\"color: #00ff00; text-decoration-color: #00ff00\">sentence based on that verdict. The\\n\\ncourt based the sentence on a crime not authorized by the\\n\\njury </span>\n",
       "<span style=\"color: #00ff00; text-decoration-color: #00ff00\">verdict.\\n\\n     - 9 Second, we deal later in this opinion with the ques-\\n\\ntion whether CrR 7.8 is a proper </span>\n",
       "<span style=\"color: #00ff00; text-decoration-color: #00ff00\">remedy to correct an\\n\\narguably erroneous jury verdict. That discussion deals more\\n\\nfully with the State’s </span>\n",
       "<span style=\"color: #00ff00; text-decoration-color: #00ff00\">argument.\\n\\n     - 0 Given that there was an arguably erroneous jury\\n\\nverdict, we must decide whether the court </span>\n",
       "<span style=\"color: #00ff00; text-decoration-color: #00ff00\">had the authority\\n\\nto change it. Two supreme court cases provide guidance.\\n\\n\\n-----\\n\\n'</span>,\n",
       "    <span style=\"color: #00ff00; text-decoration-color: #00ff00\">'words'</span>: <span style=\"font-weight: bold\">[]</span>\n",
       "<span style=\"font-weight: bold\">}</span>\n",
       "</pre>\n"
      ],
      "text/plain": [
       "\u001b[1m{\u001b[0m\n",
       "    \u001b[92m'metadata'\u001b[0m: \u001b[1m{\u001b[0m\n",
       "        \u001b[92m'format'\u001b[0m: \u001b[92m'PDF 1.3'\u001b[0m,\n",
       "        \u001b[92m'title'\u001b[0m: \u001b[92m'Washington Appellate Reports volume 196'\u001b[0m,\n",
       "        \u001b[92m'author'\u001b[0m: \u001b[92m'anonymous'\u001b[0m,\n",
       "        \u001b[92m'subject'\u001b[0m: \u001b[92m'unspecified'\u001b[0m,\n",
       "        \u001b[92m'keywords'\u001b[0m: \u001b[92m''\u001b[0m,\n",
       "        \u001b[92m'creator'\u001b[0m: \u001b[92m'Harvard Library Innovation Lab'\u001b[0m,\n",
       "        \u001b[92m'producer'\u001b[0m: \u001b[92m'ReportLab PDF Library - www.reportlab.com'\u001b[0m,\n",
       "        \u001b[92m'creationDate'\u001b[0m: \u001b[92m\"D:20190924090929+00'00'\"\u001b[0m,\n",
       "        \u001b[92m'modDate'\u001b[0m: \u001b[92m\"D:20190924090929+00'00'\"\u001b[0m,\n",
       "        \u001b[92m'trapped'\u001b[0m: \u001b[92m''\u001b[0m,\n",
       "        \u001b[92m'encryption'\u001b[0m: \u001b[2;37mNone\u001b[0m,\n",
       "        \u001b[92m'file_path'\u001b[0m: \u001b[92m'data/\u001b[0m\u001b[1;92m{\u001b[0m\u001b[92mrandom_doc_number\u001b[0m\u001b[1;92m}\u001b[0m\u001b[92m.pdf'\u001b[0m,\n",
       "        \u001b[92m'page_count'\u001b[0m: \u001b[91m1118\u001b[0m,\n",
       "        \u001b[92m'page'\u001b[0m: \u001b[91m150\u001b[0m\n",
       "    \u001b[1m}\u001b[0m,\n",
       "    \u001b[92m'toc_items'\u001b[0m: \u001b[1m[\u001b[0m\u001b[1m]\u001b[0m,\n",
       "    \u001b[92m'tables'\u001b[0m: \u001b[1m[\u001b[0m\u001b[1m]\u001b[0m,\n",
       "    \u001b[92m'images'\u001b[0m: \u001b[1m[\u001b[0m\n",
       "        \u001b[1m{\u001b[0m\n",
       "            \u001b[92m'number'\u001b[0m: \u001b[91m0\u001b[0m,\n",
       "            \u001b[92m'bbox'\u001b[0m: \u001b[93mRect\u001b[0m\u001b[1m(\u001b[0m\u001b[91m0.0\u001b[0m, \u001b[91m50.0\u001b[0m, \u001b[91m396.0\u001b[0m, \u001b[91m561.760009765625\u001b[0m\u001b[1m)\u001b[0m,\n",
       "            \u001b[92m'transform'\u001b[0m: \u001b[1m(\u001b[0m\u001b[91m396.0\u001b[0m, \u001b[91m0.0\u001b[0m, \u001b[91m-0.0\u001b[0m, \u001b[91m611.760009765625\u001b[0m, \u001b[91m0.0\u001b[0m, \u001b[91m0.0\u001b[0m\u001b[1m)\u001b[0m,\n",
       "            \u001b[92m'width'\u001b[0m: \u001b[91m1650\u001b[0m,\n",
       "            \u001b[92m'height'\u001b[0m: \u001b[91m2549\u001b[0m,\n",
       "            \u001b[92m'colorspace'\u001b[0m: \u001b[91m1\u001b[0m,\n",
       "            \u001b[92m'cs-name'\u001b[0m: \u001b[92m'DeviceGray'\u001b[0m,\n",
       "            \u001b[92m'xres'\u001b[0m: \u001b[91m96\u001b[0m,\n",
       "            \u001b[92m'yres'\u001b[0m: \u001b[91m96\u001b[0m,\n",
       "            \u001b[92m'bpc'\u001b[0m: \u001b[91m1\u001b[0m,\n",
       "            \u001b[92m'size'\u001b[0m: \u001b[91m37219\u001b[0m\n",
       "        \u001b[1m}\u001b[0m\n",
       "    \u001b[1m]\u001b[0m,\n",
       "    \u001b[92m'graphics'\u001b[0m: \u001b[1m[\u001b[0m\u001b[1m]\u001b[0m,\n",
       "    \u001b[92m'text'\u001b[0m: \u001b[92m'trial court that the jury authorized only this latter crime as\\n\\na basis for sentencing.21\\n\\n      -\u001b[0m\n",
       "\u001b[92m4 The State argues that Morales’s reliance on Wil-\\n\\nliams-Walker is misplaced because CrR 7.8 was not \u001b[0m\n",
       "\u001b[92mdis-\\n\\ncussed in that case. That is the court rule on which the trial\\n\\ncourt relied to correct the jury verdict.\u001b[0m\n",
       "\u001b[92mThis argument is not\\n\\nconvincing.\\n\\n       - 5 First, the fact that the supreme court did not discuss\\n\\nCrR 7.8\u001b[0m\n",
       "\u001b[92min Williams-Walker is not a persuasive distinguish-\\n\\ning factor. There, the court held that the jury trial \u001b[0m\n",
       "\u001b[92mright\\n\\nincluded the right to be sentenced only on a basis autho-\\n\\nrized by a jury’s verdict. It did so on facts\u001b[0m\n",
       "\u001b[92mthat are not\\n\\nmaterially distinguishable from those here.\\n\\n      - 6 There, the jury verdict forms stated the \u001b[0m\n",
       "\u001b[92m“deadly\\n\\nweapon” enhancement, not the more serious “firearm” en-\\n\\nhancement. Trial courts in some of the cases \u001b[0m\n",
       "\u001b[92msentenced on\\n\\nthe basis of the latter, not the former, enhancement. The\\n\\ncourt held that was error.\\n\\n     - 7\u001b[0m\n",
       "\u001b[92mHere, the jury verdict stated Child Molestation in\\n\\nthe Second Degree, not the more serious Child \u001b[0m\n",
       "\u001b[92mMolestation\\n\\nin the First Degree. The trial court sentenced on the basis of\\n\\nthe more serious crime, not the \u001b[0m\n",
       "\u001b[92mone in the jury verdict.\\n\\n     - 8 The underlying principle is the same: the jury ver-\\n\\ndict authorized only a \u001b[0m\n",
       "\u001b[92msentence based on that verdict. The\\n\\ncourt based the sentence on a crime not authorized by the\\n\\njury \u001b[0m\n",
       "\u001b[92mverdict.\\n\\n     - 9 Second, we deal later in this opinion with the ques-\\n\\ntion whether CrR 7.8 is a proper \u001b[0m\n",
       "\u001b[92mremedy to correct an\\n\\narguably erroneous jury verdict. That discussion deals more\\n\\nfully with the State’s \u001b[0m\n",
       "\u001b[92margument.\\n\\n     - 0 Given that there was an arguably erroneous jury\\n\\nverdict, we must decide whether the court \u001b[0m\n",
       "\u001b[92mhad the authority\\n\\nto change it. Two supreme court cases provide guidance.\\n\\n\\n-----\\n\\n'\u001b[0m,\n",
       "    \u001b[92m'words'\u001b[0m: \u001b[1m[\u001b[0m\u001b[1m]\u001b[0m\n",
       "\u001b[1m}\u001b[0m\n"
      ]
     },
     "metadata": {},
     "output_type": "display_data"
    }
   ],
   "source": [
    "console.print(md_text[random_page_number])"
   ]
  },
  {
   "cell_type": "markdown",
   "metadata": {},
   "source": [
    "## Split the documents into Chunks\n",
    "\n",
    "You will use the statistical chunker that we used in the hands-on lab. However, we want an encoder that is trained on legal document and can generate better embedding vectors to improve the retrieval results. For this exercise you will an encoder from Hugging Face hub: https://huggingface.co/nlpaueb/legal-bert-base-uncased."
   ]
  },
  {
   "cell_type": "code",
   "execution_count": 6,
   "metadata": {},
   "outputs": [
    {
     "data": {
      "text/html": [
       "<pre style=\"white-space:pre;overflow-x:auto;line-height:normal;font-family:Menlo,'DejaVu Sans Mono',consolas,'Courier New',monospace\"><span style=\"color: #ffff00; text-decoration-color: #ffff00\">HuggingFaceEncoder</span><span style=\"font-weight: bold\">(</span>\n",
       "    <span style=\"color: #e87d3e; text-decoration-color: #e87d3e; font-weight: bold\">name</span>=<span style=\"color: #00ff00; text-decoration-color: #00ff00\">'nlpaueb/legal-bert-base-uncased'</span>,\n",
       "    <span style=\"color: #e87d3e; text-decoration-color: #e87d3e; font-weight: bold\">score_threshold</span>=<span style=\"color: #ff0000; text-decoration-color: #ff0000\">0.5</span>,\n",
       "    <span style=\"color: #e87d3e; text-decoration-color: #e87d3e; font-weight: bold\">type</span>=<span style=\"color: #00ff00; text-decoration-color: #00ff00\">'huggingface'</span>,\n",
       "    <span style=\"color: #e87d3e; text-decoration-color: #e87d3e; font-weight: bold\">tokenizer_kwargs</span>=<span style=\"font-weight: bold\">{}</span>,\n",
       "    <span style=\"color: #e87d3e; text-decoration-color: #e87d3e; font-weight: bold\">model_kwargs</span>=<span style=\"font-weight: bold\">{}</span>,\n",
       "    <span style=\"color: #e87d3e; text-decoration-color: #e87d3e; font-weight: bold\">device</span>=<span style=\"color: #00ff00; text-decoration-color: #00ff00\">'cpu'</span>\n",
       "<span style=\"font-weight: bold\">)</span>\n",
       "</pre>\n"
      ],
      "text/plain": [
       "\u001b[93mHuggingFaceEncoder\u001b[0m\u001b[1m(\u001b[0m\n",
       "    \u001b[1;38;2;232;125;62mname\u001b[0m=\u001b[92m'nlpaueb/legal-bert-base-uncased'\u001b[0m,\n",
       "    \u001b[1;38;2;232;125;62mscore_threshold\u001b[0m=\u001b[91m0\u001b[0m\u001b[91m.5\u001b[0m,\n",
       "    \u001b[1;38;2;232;125;62mtype\u001b[0m=\u001b[92m'huggingface'\u001b[0m,\n",
       "    \u001b[1;38;2;232;125;62mtokenizer_kwargs\u001b[0m=\u001b[1m{\u001b[0m\u001b[1m}\u001b[0m,\n",
       "    \u001b[1;38;2;232;125;62mmodel_kwargs\u001b[0m=\u001b[1m{\u001b[0m\u001b[1m}\u001b[0m,\n",
       "    \u001b[1;38;2;232;125;62mdevice\u001b[0m=\u001b[92m'cpu'\u001b[0m\n",
       "\u001b[1m)\u001b[0m\n"
      ]
     },
     "metadata": {},
     "output_type": "display_data"
    }
   ],
   "source": [
    "from semantic_router.encoders import HuggingFaceEncoder\n",
    "\n",
    "encoder = HuggingFaceEncoder(\n",
    "    name=\"nlpaueb/legal-bert-base-uncased\"\n",
    ")\n",
    "console.print(encoder)\n"
   ]
  },
  {
   "cell_type": "code",
   "execution_count": 7,
   "metadata": {},
   "outputs": [
    {
     "data": {
      "text/html": [
       "<pre style=\"white-space:pre;overflow-x:auto;line-height:normal;font-family:Menlo,'DejaVu Sans Mono',consolas,'Courier New',monospace\"><span style=\"color: #ffff00; text-decoration-color: #ffff00\">StatisticalChunker</span><span style=\"font-weight: bold\">(</span>\n",
       "    <span style=\"color: #e87d3e; text-decoration-color: #e87d3e; font-weight: bold\">name</span>=<span style=\"color: #00ff00; text-decoration-color: #00ff00\">'statistical_chunker'</span>,\n",
       "    <span style=\"color: #e87d3e; text-decoration-color: #e87d3e; font-weight: bold\">encoder</span>=<span style=\"color: #ffff00; text-decoration-color: #ffff00\">HuggingFaceEncoder</span><span style=\"font-weight: bold\">(</span>\n",
       "        <span style=\"color: #e87d3e; text-decoration-color: #e87d3e; font-weight: bold\">name</span>=<span style=\"color: #00ff00; text-decoration-color: #00ff00\">'nlpaueb/legal-bert-base-uncased'</span>,\n",
       "        <span style=\"color: #e87d3e; text-decoration-color: #e87d3e; font-weight: bold\">score_threshold</span>=<span style=\"color: #ff0000; text-decoration-color: #ff0000\">0.5</span>,\n",
       "        <span style=\"color: #e87d3e; text-decoration-color: #e87d3e; font-weight: bold\">type</span>=<span style=\"color: #00ff00; text-decoration-color: #00ff00\">'huggingface'</span>,\n",
       "        <span style=\"color: #e87d3e; text-decoration-color: #e87d3e; font-weight: bold\">tokenizer_kwargs</span>=<span style=\"font-weight: bold\">{}</span>,\n",
       "        <span style=\"color: #e87d3e; text-decoration-color: #e87d3e; font-weight: bold\">model_kwargs</span>=<span style=\"font-weight: bold\">{}</span>,\n",
       "        <span style=\"color: #e87d3e; text-decoration-color: #e87d3e; font-weight: bold\">device</span>=<span style=\"color: #00ff00; text-decoration-color: #00ff00\">'cpu'</span>\n",
       "    <span style=\"font-weight: bold\">)</span>,\n",
       "    <span style=\"color: #e87d3e; text-decoration-color: #e87d3e; font-weight: bold\">threshold_adjustment</span>=<span style=\"color: #ff0000; text-decoration-color: #ff0000\">0.01</span>,\n",
       "    <span style=\"color: #e87d3e; text-decoration-color: #e87d3e; font-weight: bold\">dynamic_threshold</span>=<span style=\"color: #00ff00; text-decoration-color: #00ff00; font-style: italic\">True</span>,\n",
       "    <span style=\"color: #e87d3e; text-decoration-color: #e87d3e; font-weight: bold\">window_size</span>=<span style=\"color: #ff0000; text-decoration-color: #ff0000\">5</span>,\n",
       "    <span style=\"color: #e87d3e; text-decoration-color: #e87d3e; font-weight: bold\">plot_chunks</span>=<span style=\"color: #ff0000; text-decoration-color: #ff0000; font-style: italic\">False</span>,\n",
       "    <span style=\"color: #e87d3e; text-decoration-color: #e87d3e; font-weight: bold\">min_split_tokens</span>=<span style=\"color: #ff0000; text-decoration-color: #ff0000\">100</span>,\n",
       "    <span style=\"color: #e87d3e; text-decoration-color: #e87d3e; font-weight: bold\">max_split_tokens</span>=<span style=\"color: #ff0000; text-decoration-color: #ff0000\">500</span>,\n",
       "    <span style=\"color: #e87d3e; text-decoration-color: #e87d3e; font-weight: bold\">split_tokens_tolerance</span>=<span style=\"color: #ff0000; text-decoration-color: #ff0000\">10</span>,\n",
       "    <span style=\"color: #e87d3e; text-decoration-color: #e87d3e; font-weight: bold\">enable_statistics</span>=<span style=\"color: #ff0000; text-decoration-color: #ff0000; font-style: italic\">False</span>\n",
       "<span style=\"font-weight: bold\">)</span>\n",
       "</pre>\n"
      ],
      "text/plain": [
       "\u001b[93mStatisticalChunker\u001b[0m\u001b[1m(\u001b[0m\n",
       "    \u001b[1;38;2;232;125;62mname\u001b[0m=\u001b[92m'statistical_chunker'\u001b[0m,\n",
       "    \u001b[1;38;2;232;125;62mencoder\u001b[0m=\u001b[93mHuggingFaceEncoder\u001b[0m\u001b[1m(\u001b[0m\n",
       "        \u001b[1;38;2;232;125;62mname\u001b[0m=\u001b[92m'nlpaueb/legal-bert-base-uncased'\u001b[0m,\n",
       "        \u001b[1;38;2;232;125;62mscore_threshold\u001b[0m=\u001b[91m0\u001b[0m\u001b[91m.5\u001b[0m,\n",
       "        \u001b[1;38;2;232;125;62mtype\u001b[0m=\u001b[92m'huggingface'\u001b[0m,\n",
       "        \u001b[1;38;2;232;125;62mtokenizer_kwargs\u001b[0m=\u001b[1m{\u001b[0m\u001b[1m}\u001b[0m,\n",
       "        \u001b[1;38;2;232;125;62mmodel_kwargs\u001b[0m=\u001b[1m{\u001b[0m\u001b[1m}\u001b[0m,\n",
       "        \u001b[1;38;2;232;125;62mdevice\u001b[0m=\u001b[92m'cpu'\u001b[0m\n",
       "    \u001b[1m)\u001b[0m,\n",
       "    \u001b[1;38;2;232;125;62mthreshold_adjustment\u001b[0m=\u001b[91m0\u001b[0m\u001b[91m.01\u001b[0m,\n",
       "    \u001b[1;38;2;232;125;62mdynamic_threshold\u001b[0m=\u001b[3;92mTrue\u001b[0m,\n",
       "    \u001b[1;38;2;232;125;62mwindow_size\u001b[0m=\u001b[91m5\u001b[0m,\n",
       "    \u001b[1;38;2;232;125;62mplot_chunks\u001b[0m=\u001b[3;91mFalse\u001b[0m,\n",
       "    \u001b[1;38;2;232;125;62mmin_split_tokens\u001b[0m=\u001b[91m100\u001b[0m,\n",
       "    \u001b[1;38;2;232;125;62mmax_split_tokens\u001b[0m=\u001b[91m500\u001b[0m,\n",
       "    \u001b[1;38;2;232;125;62msplit_tokens_tolerance\u001b[0m=\u001b[91m10\u001b[0m,\n",
       "    \u001b[1;38;2;232;125;62menable_statistics\u001b[0m=\u001b[3;91mFalse\u001b[0m\n",
       "\u001b[1m)\u001b[0m\n"
      ]
     },
     "metadata": {},
     "output_type": "display_data"
    }
   ],
   "source": [
    "from semantic_chunkers import StatisticalChunker\n",
    "import logging\n",
    "\n",
    "logging.disable(logging.CRITICAL)\n",
    "\n",
    "chunker = StatisticalChunker(\n",
    "    encoder=encoder,\n",
    "    min_split_tokens=100,\n",
    "    max_split_tokens=500,\n",
    ")\n",
    "console.print(chunker)"
   ]
  },
  {
   "cell_type": "markdown",
   "metadata": {},
   "source": [
    "### Chunking the full document text\n",
    "\n",
    "We will concatenate the text from all the pages of the document. We will insert the page number between the pages to allow the retrieval and then then the generation steps to create direct citation to the relevant page in the long document."
   ]
  },
  {
   "cell_type": "code",
   "execution_count": 8,
   "metadata": {},
   "outputs": [],
   "source": [
    "concatenated_text = \" \".join([page[\"text\"] + f\"<page_break_{i}>\" for i, page in enumerate(md_text)])\n",
    "\n",
    "chunks = chunker(docs=[concatenated_text])\n"
   ]
  },
  {
   "cell_type": "markdown",
   "metadata": {},
   "source": [
    "How many chunks were created?"
   ]
  },
  {
   "cell_type": "code",
   "execution_count": 9,
   "metadata": {},
   "outputs": [
    {
     "data": {
      "text/plain": [
       "2336"
      ]
     },
     "execution_count": 9,
     "metadata": {},
     "output_type": "execute_result"
    }
   ],
   "source": [
    "len(chunks[0])"
   ]
  },
  {
   "cell_type": "markdown",
   "metadata": {},
   "source": [
    "Let's print a random chunk:"
   ]
  },
  {
   "cell_type": "code",
   "execution_count": 10,
   "metadata": {},
   "outputs": [
    {
     "data": {
      "text/html": [
       "<pre style=\"white-space:pre;overflow-x:auto;line-height:normal;font-family:Menlo,'DejaVu Sans Mono',consolas,'Courier New',monospace\"><span style=\"color: #ffff00; text-decoration-color: #ffff00\">Chunk</span><span style=\"font-weight: bold\">(</span>\n",
       "    <span style=\"color: #e87d3e; text-decoration-color: #e87d3e; font-weight: bold\">splits</span>=<span style=\"font-weight: bold\">[</span>\n",
       "        <span style=\"color: #00ff00; text-decoration-color: #00ff00\">'“'</span>,\n",
       "        <span style=\"color: #00ff00; text-decoration-color: #00ff00\">'Porter explained, </span><span style=\"color: #00ff00; text-decoration-color: #00ff00; font-weight: bold\">[</span><span style=\"color: #00ff00; text-decoration-color: #00ff00\">I</span><span style=\"color: #00ff00; text-decoration-color: #00ff00; font-weight: bold\">]</span><span style=\"color: #00ff00; text-decoration-color: #00ff00\">t is often our professional legal opinion'</span>,\n",
       "        <span style=\"color: #00ff00; text-decoration-color: #00ff00\">'that a loan modification is in the best interests of our'</span>,\n",
       "        <span style=\"color: #00ff00; text-decoration-color: #00ff00\">'clients.'</span>,\n",
       "        <span style=\"color: #00ff00; text-decoration-color: #00ff00\">'In such cases, it would be unethical not to assist'</span>,\n",
       "        <span style=\"color: #00ff00; text-decoration-color: #00ff00\">'clients with these services.”'</span>,\n",
       "        <span style=\"color: #00ff00; text-decoration-color: #00ff00\">'- Porter states the “mailer received with the complaint'</span>,\n",
       "        <span style=\"color: #00ff00; text-decoration-color: #00ff00\">'is the only solicitation! </span><span style=\"color: #00ff00; text-decoration-color: #00ff00; font-weight: bold\">]</span><span style=\"color: #00ff00; text-decoration-color: #00ff00\"> used by PLC in WA.” Porter'</span>,\n",
       "        <span style=\"color: #00ff00; text-decoration-color: #00ff00\">'identified eight Washington residents PLC assisted with'</span>,\n",
       "        <span style=\"color: #00ff00; text-decoration-color: #00ff00\">'residential loan modifications and provided a “copy of a'</span>,\n",
       "        <span style=\"color: #00ff00; text-decoration-color: #00ff00\">'-----'</span>,\n",
       "        <span style=\"color: #00ff00; text-decoration-color: #00ff00\">'</span><span style=\"color: #00ff00; text-decoration-color: #00ff00; font-weight: bold\">&lt;</span><span style=\"color: #7fff7f; text-decoration-color: #7fff7f\">page_break_41</span><span style=\"color: #00ff00; text-decoration-color: #00ff00; font-weight: bold\">&gt;</span><span style=\"color: #00ff00; text-decoration-color: #00ff00\"> solicitation to Washington consumers.” Porter admitted'</span>,\n",
       "        <span style=\"color: #00ff00; text-decoration-color: #00ff00\">'charging each of the eight Washington residents “$3997 </span><span style=\"color: #00ff00; text-decoration-color: #00ff00; font-weight: bold\">[</span><span style=\"color: #00ff00; text-decoration-color: #00ff00\">+</span><span style=\"color: #00ff00; text-decoration-color: #00ff00; font-weight: bold\">]</span><span style=\"color: #00ff00; text-decoration-color: #00ff00\">'</span>,\n",
       "        <span style=\"color: #00ff00; text-decoration-color: #00ff00\">'a monthly maintenance fee for loan modification services'</span>,\n",
       "        <span style=\"color: #00ff00; text-decoration-color: #00ff00\">'rendered.” Porter identified Christopher Jason Mercado as'</span>,\n",
       "        <span style=\"color: #00ff00; text-decoration-color: #00ff00\">'the Washington attorney who provided the residential loan'</span>,\n",
       "        <span style=\"color: #00ff00; text-decoration-color: #00ff00\">'modification services to Washington residents.'</span>,\n",
       "        <span style=\"color: #00ff00; text-decoration-color: #00ff00\">'- Porter claimed the attorney exemption to the Mort-'</span>,\n",
       "        <span style=\"color: #00ff00; text-decoration-color: #00ff00\">'gage Broker Practices Act </span><span style=\"color: #00ff00; text-decoration-color: #00ff00; font-weight: bold\">(</span><span style=\"color: #00ff00; text-decoration-color: #00ff00\">MBPA</span><span style=\"color: #00ff00; text-decoration-color: #00ff00; font-weight: bold\">)</span><span style=\"color: #00ff00; text-decoration-color: #00ff00\">, chapter 19.146 RCW,'</span>,\n",
       "        <span style=\"color: #00ff00; text-decoration-color: #00ff00\">'applied and filed a “Claim of Non-Applicability of the'</span>,\n",
       "        <span style=\"color: #00ff00; text-decoration-color: #00ff00\">'Mortgage Broker Practices Act.” Porter asserted PLC was'</span>,\n",
       "        <span style=\"color: #00ff00; text-decoration-color: #00ff00\">'not subject to the MBPA because “Porter Law Center assists'</span>,\n",
       "        <span style=\"color: #00ff00; text-decoration-color: #00ff00\">'clients with application for loan modification as part of the'</span>,\n",
       "        <span style=\"color: #00ff00; text-decoration-color: #00ff00\">'licensed practice of law in the State of Washington.” DFI'</span>,\n",
       "        <span style=\"color: #00ff00; text-decoration-color: #00ff00\">'investigators attempted to contact the eight Washington'</span>,\n",
       "        <span style=\"color: #00ff00; text-decoration-color: #00ff00\">'residents Porter identified and “ultimately spoke to two of'</span>\n",
       "    <span style=\"font-weight: bold\">]</span>,\n",
       "    <span style=\"color: #e87d3e; text-decoration-color: #e87d3e; font-weight: bold\">is_triggered</span>=<span style=\"color: #00ff00; text-decoration-color: #00ff00; font-style: italic\">True</span>,\n",
       "    <span style=\"color: #e87d3e; text-decoration-color: #e87d3e; font-weight: bold\">triggered_score</span>=<span style=\"color: #ff0000; text-decoration-color: #ff0000\">0.7121353335887549</span>,\n",
       "    <span style=\"color: #e87d3e; text-decoration-color: #e87d3e; font-weight: bold\">token_count</span>=<span style=\"color: #ff0000; text-decoration-color: #ff0000\">253</span>,\n",
       "    <span style=\"color: #e87d3e; text-decoration-color: #e87d3e; font-weight: bold\">metadata</span>=<span style=\"color: #dfdfdf; text-decoration-color: #dfdfdf\">None</span>\n",
       "<span style=\"font-weight: bold\">)</span>\n",
       "</pre>\n"
      ],
      "text/plain": [
       "\u001b[93mChunk\u001b[0m\u001b[1m(\u001b[0m\n",
       "    \u001b[1;38;2;232;125;62msplits\u001b[0m=\u001b[1m[\u001b[0m\n",
       "        \u001b[92m'“'\u001b[0m,\n",
       "        \u001b[92m'Porter explained, \u001b[0m\u001b[1;92m[\u001b[0m\u001b[92mI\u001b[0m\u001b[1;92m]\u001b[0m\u001b[92mt is often our professional legal opinion'\u001b[0m,\n",
       "        \u001b[92m'that a loan modification is in the best interests of our'\u001b[0m,\n",
       "        \u001b[92m'clients.'\u001b[0m,\n",
       "        \u001b[92m'In such cases, it would be unethical not to assist'\u001b[0m,\n",
       "        \u001b[92m'clients with these services.”'\u001b[0m,\n",
       "        \u001b[92m'- Porter states the “mailer received with the complaint'\u001b[0m,\n",
       "        \u001b[92m'is the only solicitation! \u001b[0m\u001b[1;92m]\u001b[0m\u001b[92m used by PLC in WA.” Porter'\u001b[0m,\n",
       "        \u001b[92m'identified eight Washington residents PLC assisted with'\u001b[0m,\n",
       "        \u001b[92m'residential loan modifications and provided a “copy of a'\u001b[0m,\n",
       "        \u001b[92m'-----'\u001b[0m,\n",
       "        \u001b[92m'\u001b[0m\u001b[1;92m<\u001b[0m\u001b[2;92mpage_break_41\u001b[0m\u001b[1;92m>\u001b[0m\u001b[92m solicitation to Washington consumers.” Porter admitted'\u001b[0m,\n",
       "        \u001b[92m'charging each of the eight Washington residents “$3997 \u001b[0m\u001b[1;92m[\u001b[0m\u001b[92m+\u001b[0m\u001b[1;92m]\u001b[0m\u001b[92m'\u001b[0m,\n",
       "        \u001b[92m'a monthly maintenance fee for loan modification services'\u001b[0m,\n",
       "        \u001b[92m'rendered.” Porter identified Christopher Jason Mercado as'\u001b[0m,\n",
       "        \u001b[92m'the Washington attorney who provided the residential loan'\u001b[0m,\n",
       "        \u001b[92m'modification services to Washington residents.'\u001b[0m,\n",
       "        \u001b[92m'- Porter claimed the attorney exemption to the Mort-'\u001b[0m,\n",
       "        \u001b[92m'gage Broker Practices Act \u001b[0m\u001b[1;92m(\u001b[0m\u001b[92mMBPA\u001b[0m\u001b[1;92m)\u001b[0m\u001b[92m, chapter 19.146 RCW,'\u001b[0m,\n",
       "        \u001b[92m'applied and filed a “Claim of Non-Applicability of the'\u001b[0m,\n",
       "        \u001b[92m'Mortgage Broker Practices Act.” Porter asserted PLC was'\u001b[0m,\n",
       "        \u001b[92m'not subject to the MBPA because “Porter Law Center assists'\u001b[0m,\n",
       "        \u001b[92m'clients with application for loan modification as part of the'\u001b[0m,\n",
       "        \u001b[92m'licensed practice of law in the State of Washington.” DFI'\u001b[0m,\n",
       "        \u001b[92m'investigators attempted to contact the eight Washington'\u001b[0m,\n",
       "        \u001b[92m'residents Porter identified and “ultimately spoke to two of'\u001b[0m\n",
       "    \u001b[1m]\u001b[0m,\n",
       "    \u001b[1;38;2;232;125;62mis_triggered\u001b[0m=\u001b[3;92mTrue\u001b[0m,\n",
       "    \u001b[1;38;2;232;125;62mtriggered_score\u001b[0m=\u001b[91m0\u001b[0m\u001b[91m.7121353335887549\u001b[0m,\n",
       "    \u001b[1;38;2;232;125;62mtoken_count\u001b[0m=\u001b[91m253\u001b[0m,\n",
       "    \u001b[1;38;2;232;125;62mmetadata\u001b[0m=\u001b[2;37mNone\u001b[0m\n",
       "\u001b[1m)\u001b[0m\n"
      ]
     },
     "metadata": {},
     "output_type": "display_data"
    }
   ],
   "source": [
    "console.print(chunks[0][5])"
   ]
  },
  {
   "cell_type": "markdown",
   "metadata": {},
   "source": [
    "What is the average numebr of tokens in the chunks?"
   ]
  },
  {
   "cell_type": "code",
   "execution_count": 11,
   "metadata": {},
   "outputs": [
    {
     "data": {
      "text/plain": [
       "172.47217465753425"
      ]
     },
     "execution_count": 11,
     "metadata": {},
     "output_type": "execute_result"
    }
   ],
   "source": [
    "sum(chunk.token_count for chunk in chunks[0]) / len(chunks[0])"
   ]
  },
  {
   "cell_type": "markdown",
   "metadata": {},
   "source": [
    "## Enrich the chunk with context and metadata\n",
    "\n",
    "We will iterate over all the chunks. This can take some time based on the number of chunks.\n",
    "\n",
    "Since we want to be able to process a large number documents in our RAG system, we need to create a UUID that will used as the ID of the chunk within the vector database. The UUID is comprised of the URL of the document and the chunk index. This structure allows you to get a specific chunk index directly, whick will be improtant in the augmentation phase."
   ]
  },
  {
   "cell_type": "code",
   "execution_count": 12,
   "metadata": {},
   "outputs": [
    {
     "name": "stderr",
     "output_type": "stream",
     "text": [
      "Processing chunks:   0%|          | 0/2336 [00:00<?, ?it/s]huggingface/tokenizers: The current process just got forked, after parallelism has already been used. Disabling parallelism to avoid deadlocks...\n",
      "To disable this warning, you can either:\n",
      "\t- Avoid using `tokenizers` before the fork if possible\n",
      "\t- Explicitly set the environment variable TOKENIZERS_PARALLELISM=(true | false)\n",
      "Processing chunks: 100%|██████████| 2336/2336 [03:35<00:00, 10.83it/s]\n"
     ]
    }
   ],
   "source": [
    "import uuid\n",
    "import re\n",
    "\n",
    "doc_url = url\n",
    "title = md_text[0][\"metadata\"][\"title\"]\n",
    "# Enrich the metadata with filters that are relevant for future retrieval queries.\n",
    "state = \"Washington\"\n",
    "\n",
    "from tqdm import tqdm\n",
    "\n",
    "def generate_uuid(doc_url, i):\n",
    "    return str(uuid.uuid5(uuid.NAMESPACE_URL, f\"{doc_url}/{i}\"))\n",
    "\n",
    "corpus_json = []\n",
    "for i, chunk in tqdm(enumerate(chunks[0]), total=len(chunks[0]), desc=\"Processing chunks\"):\n",
    "    chunk_text = ' '.join(chunk.splits)\n",
    "    page_match = re.search(r'<page_break_(\\d+)>', chunk_text)\n",
    "    page = page_match.group(1) if page_match else 0\n",
    "    chunk_uuid = generate_uuid(doc_url, i)\n",
    "    corpus_json.append({\n",
    "        \"id\": chunk_uuid,\n",
    "        \"document\": chunk_text,\n",
    "        \"embedding\": encoder([f\"{title} \\n {chunk_text}\"])[0],\n",
    "        \"metadata\" : {\n",
    "            \"title\": title,\n",
    "            \"state\": state,\n",
    "            \"doc_url\": doc_url,\n",
    "            \"chunk_index\": i,\n",
    "            \"page\": page,\n",
    "        }\n",
    "    })\n"
   ]
  },
  {
   "cell_type": "code",
   "execution_count": null,
   "metadata": {},
   "outputs": [],
   "source": [
    "console.print(corpus_json[:2])"
   ]
  },
  {
   "cell_type": "markdown",
   "metadata": {},
   "source": [
    "## Loading into a Vector Database\n",
    "\n",
    "You will use a new vector data, [Chroma](https://github.com/chroma-core/chroma). It can illustrate the modularity of the RAG application, and the similar concepts across the providers."
   ]
  },
  {
   "cell_type": "markdown",
   "metadata": {},
   "source": [
    "### Creating the collection \n",
    "\n",
    "You will use the default values for this simpler exercise."
   ]
  },
  {
   "cell_type": "code",
   "execution_count": 14,
   "metadata": {},
   "outputs": [],
   "source": [
    "import chromadb\n",
    "# setup Chroma in-memory, for easy prototyping. Can add persistence easily!\n",
    "client = chromadb.Client()\n",
    "\n",
    "# Create collection. get_collection, create_collection, delete_collection also available!\n",
    "collection_name = \"legal-pdfs\"\n",
    "collection = client.get_or_create_collection(collection_name)\n"
   ]
  },
  {
   "cell_type": "markdown",
   "metadata": {},
   "source": [
    "### Unserting the documents\n",
    "\n",
    "We will use the embedding, metadata and documents that were calculated above."
   ]
  },
  {
   "cell_type": "code",
   "execution_count": 15,
   "metadata": {},
   "outputs": [],
   "source": [
    "collection.add(\n",
    "    documents=[obj[\"document\"] for obj in corpus_json],\n",
    "    embeddings=[obj[\"embedding\"] for obj in corpus_json],\n",
    "    metadatas=[obj[\"metadata\"] for obj in corpus_json],\n",
    "    ids=[obj[\"id\"] for obj in corpus_json]\n",
    ")"
   ]
  },
  {
   "cell_type": "markdown",
   "metadata": {},
   "source": [
    "### Query the vector collection\n",
    "\n",
    "We will add an example filter to the query based on the metadata that we created for each chunk (`{\"state\": \"Washington\"}`)."
   ]
  },
  {
   "cell_type": "code",
   "execution_count": 16,
   "metadata": {},
   "outputs": [],
   "source": [
    "query_text = \"cases about loan default\"\n",
    "query_embedding = encoder([query_text])"
   ]
  },
  {
   "cell_type": "code",
   "execution_count": 17,
   "metadata": {},
   "outputs": [],
   "source": [
    "hits = collection.query(\n",
    "    query_embeddings=query_embedding,\n",
    "    n_results=5,\n",
    "    where={\"state\": \"Washington\"},\n",
    ")\n"
   ]
  },
  {
   "cell_type": "markdown",
   "metadata": {},
   "source": [
    "## Augmentation Step\n",
    "\n",
    "We suspect that the chunk context is too small and we want to concatenate the chunks around it, before we send the text to the generation step. "
   ]
  },
  {
   "cell_type": "code",
   "execution_count": 18,
   "metadata": {},
   "outputs": [
    {
     "data": {
      "text/html": [
       "<pre style=\"white-space:pre;overflow-x:auto;line-height:normal;font-family:Menlo,'DejaVu Sans Mono',consolas,'Courier New',monospace\"><span style=\"font-weight: bold\">{</span>\n",
       "    <span style=\"color: #00ff00; text-decoration-color: #00ff00\">'ids'</span>: <span style=\"font-weight: bold\">[</span>\n",
       "        <span style=\"font-weight: bold\">[</span>\n",
       "            <span style=\"color: #00ff00; text-decoration-color: #00ff00\">'e6e5a091-a785-5ee1-9583-c1631a5ea1c8'</span>,\n",
       "            <span style=\"color: #00ff00; text-decoration-color: #00ff00\">'0771fe60-9611-5cb9-9043-c01bf9824ffa'</span>,\n",
       "            <span style=\"color: #00ff00; text-decoration-color: #00ff00\">'d8880a1b-84bf-5f0a-85ec-b3f4f818ed21'</span>,\n",
       "            <span style=\"color: #00ff00; text-decoration-color: #00ff00\">'ce09c735-b77e-5183-bcf6-7fdf72bb344d'</span>,\n",
       "            <span style=\"color: #00ff00; text-decoration-color: #00ff00\">'370e45fb-0625-5cb2-bcce-39adc25140a6'</span>\n",
       "        <span style=\"font-weight: bold\">]</span>\n",
       "    <span style=\"font-weight: bold\">]</span>,\n",
       "    <span style=\"color: #00ff00; text-decoration-color: #00ff00\">'distances'</span>: <span style=\"font-weight: bold\">[</span>\n",
       "        <span style=\"font-weight: bold\">[</span><span style=\"color: #ff0000; text-decoration-color: #ff0000\">0.7120084762573242</span>, <span style=\"color: #ff0000; text-decoration-color: #ff0000\">0.7148486375808716</span>, <span style=\"color: #ff0000; text-decoration-color: #ff0000\">0.7168563008308411</span>, <span style=\"color: #ff0000; text-decoration-color: #ff0000\">0.7176553606987</span>, <span style=\"color: #ff0000; text-decoration-color: #ff0000\">0.7205198407173157</span><span style=\"font-weight: bold\">]</span>\n",
       "    <span style=\"font-weight: bold\">]</span>,\n",
       "    <span style=\"color: #00ff00; text-decoration-color: #00ff00\">'metadatas'</span>: <span style=\"font-weight: bold\">[</span>\n",
       "        <span style=\"font-weight: bold\">[</span>\n",
       "            <span style=\"font-weight: bold\">{</span>\n",
       "                <span style=\"color: #00ff00; text-decoration-color: #00ff00\">'chunk_index'</span>: <span style=\"color: #ff0000; text-decoration-color: #ff0000\">1456</span>,\n",
       "                <span style=\"color: #00ff00; text-decoration-color: #00ff00\">'doc_url'</span>: <span style=\"color: #00ff00; text-decoration-color: #00ff00\">'https://static.case.law/wash-app/196.pdf'</span>,\n",
       "                <span style=\"color: #00ff00; text-decoration-color: #00ff00\">'page'</span>: <span style=\"color: #00ff00; text-decoration-color: #00ff00\">'684'</span>,\n",
       "                <span style=\"color: #00ff00; text-decoration-color: #00ff00\">'state'</span>: <span style=\"color: #00ff00; text-decoration-color: #00ff00\">'Washington'</span>,\n",
       "                <span style=\"color: #00ff00; text-decoration-color: #00ff00\">'title'</span>: <span style=\"color: #00ff00; text-decoration-color: #00ff00\">'Washington Appellate Reports volume 196'</span>\n",
       "            <span style=\"font-weight: bold\">}</span>,\n",
       "            <span style=\"font-weight: bold\">{</span>\n",
       "                <span style=\"color: #00ff00; text-decoration-color: #00ff00\">'chunk_index'</span>: <span style=\"color: #ff0000; text-decoration-color: #ff0000\">383</span>,\n",
       "                <span style=\"color: #00ff00; text-decoration-color: #00ff00\">'doc_url'</span>: <span style=\"color: #00ff00; text-decoration-color: #00ff00\">'https://static.case.law/wash-app/196.pdf'</span>,\n",
       "                <span style=\"color: #00ff00; text-decoration-color: #00ff00\">'page'</span>: <span style=\"color: #00ff00; text-decoration-color: #00ff00\">'205'</span>,\n",
       "                <span style=\"color: #00ff00; text-decoration-color: #00ff00\">'state'</span>: <span style=\"color: #00ff00; text-decoration-color: #00ff00\">'Washington'</span>,\n",
       "                <span style=\"color: #00ff00; text-decoration-color: #00ff00\">'title'</span>: <span style=\"color: #00ff00; text-decoration-color: #00ff00\">'Washington Appellate Reports volume 196'</span>\n",
       "            <span style=\"font-weight: bold\">}</span>,\n",
       "            <span style=\"font-weight: bold\">{</span>\n",
       "                <span style=\"color: #00ff00; text-decoration-color: #00ff00\">'chunk_index'</span>: <span style=\"color: #ff0000; text-decoration-color: #ff0000\">240</span>,\n",
       "                <span style=\"color: #00ff00; text-decoration-color: #00ff00\">'doc_url'</span>: <span style=\"color: #00ff00; text-decoration-color: #00ff00\">'https://static.case.law/wash-app/196.pdf'</span>,\n",
       "                <span style=\"color: #00ff00; text-decoration-color: #00ff00\">'page'</span>: <span style=\"color: #ff0000; text-decoration-color: #ff0000\">0</span>,\n",
       "                <span style=\"color: #00ff00; text-decoration-color: #00ff00\">'state'</span>: <span style=\"color: #00ff00; text-decoration-color: #00ff00\">'Washington'</span>,\n",
       "                <span style=\"color: #00ff00; text-decoration-color: #00ff00\">'title'</span>: <span style=\"color: #00ff00; text-decoration-color: #00ff00\">'Washington Appellate Reports volume 196'</span>\n",
       "            <span style=\"font-weight: bold\">}</span>,\n",
       "            <span style=\"font-weight: bold\">{</span>\n",
       "                <span style=\"color: #00ff00; text-decoration-color: #00ff00\">'chunk_index'</span>: <span style=\"color: #ff0000; text-decoration-color: #ff0000\">52</span>,\n",
       "                <span style=\"color: #00ff00; text-decoration-color: #00ff00\">'doc_url'</span>: <span style=\"color: #00ff00; text-decoration-color: #00ff00\">'https://static.case.law/wash-app/196.pdf'</span>,\n",
       "                <span style=\"color: #00ff00; text-decoration-color: #00ff00\">'page'</span>: <span style=\"color: #ff0000; text-decoration-color: #ff0000\">0</span>,\n",
       "                <span style=\"color: #00ff00; text-decoration-color: #00ff00\">'state'</span>: <span style=\"color: #00ff00; text-decoration-color: #00ff00\">'Washington'</span>,\n",
       "                <span style=\"color: #00ff00; text-decoration-color: #00ff00\">'title'</span>: <span style=\"color: #00ff00; text-decoration-color: #00ff00\">'Washington Appellate Reports volume 196'</span>\n",
       "            <span style=\"font-weight: bold\">}</span>,\n",
       "            <span style=\"font-weight: bold\">{</span>\n",
       "                <span style=\"color: #00ff00; text-decoration-color: #00ff00\">'chunk_index'</span>: <span style=\"color: #ff0000; text-decoration-color: #ff0000\">221</span>,\n",
       "                <span style=\"color: #00ff00; text-decoration-color: #00ff00\">'doc_url'</span>: <span style=\"color: #00ff00; text-decoration-color: #00ff00\">'https://static.case.law/wash-app/196.pdf'</span>,\n",
       "                <span style=\"color: #00ff00; text-decoration-color: #00ff00\">'page'</span>: <span style=\"color: #00ff00; text-decoration-color: #00ff00\">'129'</span>,\n",
       "                <span style=\"color: #00ff00; text-decoration-color: #00ff00\">'state'</span>: <span style=\"color: #00ff00; text-decoration-color: #00ff00\">'Washington'</span>,\n",
       "                <span style=\"color: #00ff00; text-decoration-color: #00ff00\">'title'</span>: <span style=\"color: #00ff00; text-decoration-color: #00ff00\">'Washington Appellate Reports volume 196'</span>\n",
       "            <span style=\"font-weight: bold\">}</span>\n",
       "        <span style=\"font-weight: bold\">]</span>\n",
       "    <span style=\"font-weight: bold\">]</span>,\n",
       "    <span style=\"color: #00ff00; text-decoration-color: #00ff00\">'embeddings'</span>: <span style=\"color: #dfdfdf; text-decoration-color: #dfdfdf\">None</span>,\n",
       "    <span style=\"color: #00ff00; text-decoration-color: #00ff00\">'documents'</span>: <span style=\"font-weight: bold\">[</span>\n",
       "        <span style=\"font-weight: bold\">[</span>\n",
       "            <span style=\"color: #00ff00; text-decoration-color: #00ff00\">'----- </span><span style=\"color: #00ff00; text-decoration-color: #00ff00; font-weight: bold\">&lt;</span><span style=\"color: #7fff7f; text-decoration-color: #7fff7f\">page_break_684</span><span style=\"color: #00ff00; text-decoration-color: #00ff00\">&gt; raise the issue of appellate costs in briefing or a motion for reconsideration </span>\n",
       "<span style=\"color: #00ff00; text-decoration-color: #00ff00\">consistently with Sinclair.2 - 0 Our Supreme Court has acknowledged the difficult issues surrounding the assignment</span>\n",
       "<span style=\"color: #00ff00; text-decoration-color: #00ff00\">of costs to indigent defendants. In State v. Blazina, the court catalogued the potential impediments to meaningful </span>\n",
       "<span style=\"color: #00ff00; text-decoration-color: #00ff00\">postincarceration re- integration caused by burdening indigent defendants with costs that will only swell with </span>\n",
       "<span style=\"color: #00ff00; text-decoration-color: #00ff00\">interest under a low payment plan. 182 Wn.2d 827, 344 P.3d 680 </span><span style=\"color: #00ff00; text-decoration-color: #00ff00; font-weight: bold\">(</span><span style=\"color: #00ff00; text-decoration-color: #00ff00\">2015</span><span style=\"color: #00ff00; text-decoration-color: #00ff00; font-weight: bold\">)</span><span style=\"color: #00ff00; text-decoration-color: #00ff00\">.'</span><span style=\"color: #000000; text-decoration-color: #000000\">,</span>\n",
       "<span style=\"color: #000000; text-decoration-color: #000000\">            </span><span style=\"color: #00ff00; text-decoration-color: #00ff00\">'We should take the current while it serves. For these reasons, I dissent. Reconsideration granted </span>\n",
       "<span style=\"color: #00ff00; text-decoration-color: #00ff00\">October 31, 2016 to waive ap- pellate costs. Review denied at 188 Wn.2d 1008 </span><span style=\"color: #00ff00; text-decoration-color: #00ff00; font-weight: bold\">(</span><span style=\"color: #00ff00; text-decoration-color: #00ff00\">2017</span><span style=\"color: #00ff00; text-decoration-color: #00ff00; font-weight: bold\">)</span><span style=\"color: #00ff00; text-decoration-color: #00ff00\">. 8 Perhaps the most obvious </span>\n",
       "<span style=\"color: #00ff00; text-decoration-color: #00ff00\">change made by Blazina was its modification of prior ripeness doctrine by allowing a defendant to challenge ability</span>\n",
       "<span style=\"color: #00ff00; text-decoration-color: #00ff00\">to pay LFOs before enforcement. As the majority points out, though, Dove’s judgment and sentence stated that LFO </span>\n",
       "<span style=\"color: #00ff00; text-decoration-color: #00ff00\">payments would commence immediately. For this ----- &lt;page_break_205&gt; </span><span style=\"color: #00ff00; text-decoration-color: #00ff00; font-weight: bold\">[</span><span style=\"color: #00ff00; text-decoration-color: #00ff00\">No. 73268-4-I. Division One. October 3, </span>\n",
       "<span style=\"color: #00ff00; text-decoration-color: #00ff00\">2016.</span><span style=\"color: #00ff00; text-decoration-color: #00ff00; font-weight: bold\">]</span><span style=\"color: #00ff00; text-decoration-color: #00ff00\">'</span><span style=\"color: #000000; text-decoration-color: #000000\">,</span>\n",
       "<span style=\"color: #000000; text-decoration-color: #000000\">            </span><span style=\"color: #00ff00; text-decoration-color: #00ff00\">'Both Reilly and Ide, in dicta, imply that an exemption based on low income is reasonable and proper. -</span>\n",
       "<span style=\"color: #00ff00; text-decoration-color: #00ff00\">1 I recognize that Town of Tekoa v. Reilly concerns a full exemption, not a reduction in property value for pur- </span>\n",
       "<span style=\"color: #00ff00; text-decoration-color: #00ff00\">poses of assessing taxes. Nevertheless, I find this distinc- tion unimportant in distinguishing Reilly. If a city </span>\n",
       "<span style=\"color: #00ff00; text-decoration-color: #00ff00\">may impart a full exemption to low income property owners, the city should enjoy the power to convey a partial </span>\n",
       "<span style=\"color: #00ff00; text-decoration-color: #00ff00\">exemption. A partial exemption is less harmful to other taxpayers. - 2 The city of Spokane relies on RCW </span>\n",
       "<span style=\"color: #00ff00; text-decoration-color: #00ff00\">35A.11.020,'</span><span style=\"color: #000000; text-decoration-color: #000000\">,</span>\n",
       "<span style=\"color: #000000; text-decoration-color: #000000\">            </span><span style=\"color: #00ff00; text-decoration-color: #00ff00\">'Once again, the parties2 agreed in the trial court that it was.3 That conclu- sion is unassailable. </span>\n",
       "<span style=\"color: #00ff00; text-decoration-color: #00ff00\">The policy of this state, expressed in the ethics in public service act, ch. 42.52 ROW,is that public resources are</span>\n",
       "<span style=\"color: #00ff00; text-decoration-color: #00ff00\">to be used for official public business rather than for personal benefit. See Knudsen, 156 Wn. App. at 860-63 </span>\n",
       "<span style=\"color: #00ff00; text-decoration-color: #00ff00; font-weight: bold\">(</span><span style=\"color: #00ff00; text-decoration-color: #00ff00\">determining that e-mail sent to encourage others to lobby legislature violated de minimis use exception to'</span><span style=\"color: #000000; text-decoration-color: #000000\">,</span>\n",
       "<span style=\"color: #000000; text-decoration-color: #000000\">            </span><span style=\"color: #00ff00; text-decoration-color: #00ff00\">'Typically, a state constitution requires that property taxes be uniformly or equally assessed. Even </span>\n",
       "<span style=\"color: #00ff00; text-decoration-color: #00ff00\">the United States Constitution imposes a uniformity rule on all “duties, imposts, and ----- &lt;page_break_129</span><span style=\"color: #00ff00; text-decoration-color: #00ff00; font-weight: bold\">&gt;</span><span style=\"color: #00ff00; text-decoration-color: #00ff00\">      -</span>\n",
       "<span style=\"color: #00ff00; text-decoration-color: #00ff00\">6 Washington Constitution article VII, section 9 im- poses the uniformity principle on taxes levied by Washing- ton</span>\n",
       "<span style=\"color: #00ff00; text-decoration-color: #00ff00\">municipal corporations, such as cities. The section declares: The legislature may vest the corporate authorities of</span>\n",
       "<span style=\"color: #00ff00; text-decoration-color: #00ff00\">cities, towns and villages with power to make local improvements by special assessment, or by special taxation of </span>\n",
       "<span style=\"color: #00ff00; text-decoration-color: #00ff00\">property ben-'</span>\n",
       "        <span style=\"font-weight: bold\">]</span>\n",
       "    <span style=\"font-weight: bold\">]</span>,\n",
       "    <span style=\"color: #00ff00; text-decoration-color: #00ff00\">'uris'</span>: <span style=\"color: #dfdfdf; text-decoration-color: #dfdfdf\">None</span>,\n",
       "    <span style=\"color: #00ff00; text-decoration-color: #00ff00\">'data'</span>: <span style=\"color: #dfdfdf; text-decoration-color: #dfdfdf\">None</span>,\n",
       "    <span style=\"color: #00ff00; text-decoration-color: #00ff00\">'included'</span>: <span style=\"font-weight: bold\">[</span><span style=\"color: #00ff00; text-decoration-color: #00ff00\">'metadatas'</span>, <span style=\"color: #00ff00; text-decoration-color: #00ff00\">'documents'</span>, <span style=\"color: #00ff00; text-decoration-color: #00ff00\">'distances'</span><span style=\"font-weight: bold\">]</span>\n",
       "<span style=\"font-weight: bold\">}</span>\n",
       "</pre>\n"
      ],
      "text/plain": [
       "\u001b[1m{\u001b[0m\n",
       "    \u001b[92m'ids'\u001b[0m: \u001b[1m[\u001b[0m\n",
       "        \u001b[1m[\u001b[0m\n",
       "            \u001b[92m'e6e5a091-a785-5ee1-9583-c1631a5ea1c8'\u001b[0m,\n",
       "            \u001b[92m'0771fe60-9611-5cb9-9043-c01bf9824ffa'\u001b[0m,\n",
       "            \u001b[92m'd8880a1b-84bf-5f0a-85ec-b3f4f818ed21'\u001b[0m,\n",
       "            \u001b[92m'ce09c735-b77e-5183-bcf6-7fdf72bb344d'\u001b[0m,\n",
       "            \u001b[92m'370e45fb-0625-5cb2-bcce-39adc25140a6'\u001b[0m\n",
       "        \u001b[1m]\u001b[0m\n",
       "    \u001b[1m]\u001b[0m,\n",
       "    \u001b[92m'distances'\u001b[0m: \u001b[1m[\u001b[0m\n",
       "        \u001b[1m[\u001b[0m\u001b[91m0.7120084762573242\u001b[0m, \u001b[91m0.7148486375808716\u001b[0m, \u001b[91m0.7168563008308411\u001b[0m, \u001b[91m0.7176553606987\u001b[0m, \u001b[91m0.7205198407173157\u001b[0m\u001b[1m]\u001b[0m\n",
       "    \u001b[1m]\u001b[0m,\n",
       "    \u001b[92m'metadatas'\u001b[0m: \u001b[1m[\u001b[0m\n",
       "        \u001b[1m[\u001b[0m\n",
       "            \u001b[1m{\u001b[0m\n",
       "                \u001b[92m'chunk_index'\u001b[0m: \u001b[91m1456\u001b[0m,\n",
       "                \u001b[92m'doc_url'\u001b[0m: \u001b[92m'https://static.case.law/wash-app/196.pdf'\u001b[0m,\n",
       "                \u001b[92m'page'\u001b[0m: \u001b[92m'684'\u001b[0m,\n",
       "                \u001b[92m'state'\u001b[0m: \u001b[92m'Washington'\u001b[0m,\n",
       "                \u001b[92m'title'\u001b[0m: \u001b[92m'Washington Appellate Reports volume 196'\u001b[0m\n",
       "            \u001b[1m}\u001b[0m,\n",
       "            \u001b[1m{\u001b[0m\n",
       "                \u001b[92m'chunk_index'\u001b[0m: \u001b[91m383\u001b[0m,\n",
       "                \u001b[92m'doc_url'\u001b[0m: \u001b[92m'https://static.case.law/wash-app/196.pdf'\u001b[0m,\n",
       "                \u001b[92m'page'\u001b[0m: \u001b[92m'205'\u001b[0m,\n",
       "                \u001b[92m'state'\u001b[0m: \u001b[92m'Washington'\u001b[0m,\n",
       "                \u001b[92m'title'\u001b[0m: \u001b[92m'Washington Appellate Reports volume 196'\u001b[0m\n",
       "            \u001b[1m}\u001b[0m,\n",
       "            \u001b[1m{\u001b[0m\n",
       "                \u001b[92m'chunk_index'\u001b[0m: \u001b[91m240\u001b[0m,\n",
       "                \u001b[92m'doc_url'\u001b[0m: \u001b[92m'https://static.case.law/wash-app/196.pdf'\u001b[0m,\n",
       "                \u001b[92m'page'\u001b[0m: \u001b[91m0\u001b[0m,\n",
       "                \u001b[92m'state'\u001b[0m: \u001b[92m'Washington'\u001b[0m,\n",
       "                \u001b[92m'title'\u001b[0m: \u001b[92m'Washington Appellate Reports volume 196'\u001b[0m\n",
       "            \u001b[1m}\u001b[0m,\n",
       "            \u001b[1m{\u001b[0m\n",
       "                \u001b[92m'chunk_index'\u001b[0m: \u001b[91m52\u001b[0m,\n",
       "                \u001b[92m'doc_url'\u001b[0m: \u001b[92m'https://static.case.law/wash-app/196.pdf'\u001b[0m,\n",
       "                \u001b[92m'page'\u001b[0m: \u001b[91m0\u001b[0m,\n",
       "                \u001b[92m'state'\u001b[0m: \u001b[92m'Washington'\u001b[0m,\n",
       "                \u001b[92m'title'\u001b[0m: \u001b[92m'Washington Appellate Reports volume 196'\u001b[0m\n",
       "            \u001b[1m}\u001b[0m,\n",
       "            \u001b[1m{\u001b[0m\n",
       "                \u001b[92m'chunk_index'\u001b[0m: \u001b[91m221\u001b[0m,\n",
       "                \u001b[92m'doc_url'\u001b[0m: \u001b[92m'https://static.case.law/wash-app/196.pdf'\u001b[0m,\n",
       "                \u001b[92m'page'\u001b[0m: \u001b[92m'129'\u001b[0m,\n",
       "                \u001b[92m'state'\u001b[0m: \u001b[92m'Washington'\u001b[0m,\n",
       "                \u001b[92m'title'\u001b[0m: \u001b[92m'Washington Appellate Reports volume 196'\u001b[0m\n",
       "            \u001b[1m}\u001b[0m\n",
       "        \u001b[1m]\u001b[0m\n",
       "    \u001b[1m]\u001b[0m,\n",
       "    \u001b[92m'embeddings'\u001b[0m: \u001b[2;37mNone\u001b[0m,\n",
       "    \u001b[92m'documents'\u001b[0m: \u001b[1m[\u001b[0m\n",
       "        \u001b[1m[\u001b[0m\n",
       "            \u001b[92m'----- \u001b[0m\u001b[1;92m<\u001b[0m\u001b[2;92mpage_break_684\u001b[0m\u001b[92m> raise the issue of appellate costs in briefing or a motion for reconsideration \u001b[0m\n",
       "\u001b[92mconsistently with Sinclair.2 - 0 Our Supreme Court has acknowledged the difficult issues surrounding the assignment\u001b[0m\n",
       "\u001b[92mof costs to indigent defendants. In State v. Blazina, the court catalogued the potential impediments to meaningful \u001b[0m\n",
       "\u001b[92mpostincarceration re- integration caused by burdening indigent defendants with costs that will only swell with \u001b[0m\n",
       "\u001b[92minterest under a low payment plan. 182 Wn.2d 827, 344 P.3d 680 \u001b[0m\u001b[1;92m(\u001b[0m\u001b[92m2015\u001b[0m\u001b[1;92m)\u001b[0m\u001b[92m.'\u001b[0m\u001b[39m,\u001b[0m\n",
       "\u001b[39m            \u001b[0m\u001b[92m'We should take the current while it serves. For these reasons, I dissent. Reconsideration granted \u001b[0m\n",
       "\u001b[92mOctober 31, 2016 to waive ap- pellate costs. Review denied at 188 Wn.2d 1008 \u001b[0m\u001b[1;92m(\u001b[0m\u001b[92m2017\u001b[0m\u001b[1;92m)\u001b[0m\u001b[92m. 8 Perhaps the most obvious \u001b[0m\n",
       "\u001b[92mchange made by Blazina was its modification of prior ripeness doctrine by allowing a defendant to challenge ability\u001b[0m\n",
       "\u001b[92mto pay LFOs before enforcement. As the majority points out, though, Dove’s judgment and sentence stated that LFO \u001b[0m\n",
       "\u001b[92mpayments would commence immediately. For this ----- <page_break_205> \u001b[0m\u001b[1;92m[\u001b[0m\u001b[92mNo. 73268-4-I. Division One. October 3, \u001b[0m\n",
       "\u001b[92m2016.\u001b[0m\u001b[1;92m]\u001b[0m\u001b[92m'\u001b[0m\u001b[39m,\u001b[0m\n",
       "\u001b[39m            \u001b[0m\u001b[92m'Both Reilly and Ide, in dicta, imply that an exemption based on low income is reasonable and proper. -\u001b[0m\n",
       "\u001b[92m1 I recognize that Town of Tekoa v. Reilly concerns a full exemption, not a reduction in property value for pur- \u001b[0m\n",
       "\u001b[92mposes of assessing taxes. Nevertheless, I find this distinc- tion unimportant in distinguishing Reilly. If a city \u001b[0m\n",
       "\u001b[92mmay impart a full exemption to low income property owners, the city should enjoy the power to convey a partial \u001b[0m\n",
       "\u001b[92mexemption. A partial exemption is less harmful to other taxpayers. - 2 The city of Spokane relies on RCW \u001b[0m\n",
       "\u001b[92m35A.11.020,'\u001b[0m\u001b[39m,\u001b[0m\n",
       "\u001b[39m            \u001b[0m\u001b[92m'Once again, the parties2 agreed in the trial court that it was.3 That conclu- sion is unassailable. \u001b[0m\n",
       "\u001b[92mThe policy of this state, expressed in the ethics in public service act, ch. 42.52 ROW,is that public resources are\u001b[0m\n",
       "\u001b[92mto be used for official public business rather than for personal benefit. See Knudsen, 156 Wn. App. at 860-63 \u001b[0m\n",
       "\u001b[1;92m(\u001b[0m\u001b[92mdetermining that e-mail sent to encourage others to lobby legislature violated de minimis use exception to'\u001b[0m\u001b[39m,\u001b[0m\n",
       "\u001b[39m            \u001b[0m\u001b[92m'Typically, a state constitution requires that property taxes be uniformly or equally assessed. Even \u001b[0m\n",
       "\u001b[92mthe United States Constitution imposes a uniformity rule on all “duties, imposts, and ----- <page_break_129\u001b[0m\u001b[1;92m>\u001b[0m\u001b[92m      -\u001b[0m\n",
       "\u001b[92m6 Washington Constitution article VII, section 9 im- poses the uniformity principle on taxes levied by Washing- ton\u001b[0m\n",
       "\u001b[92mmunicipal corporations, such as cities. The section declares: The legislature may vest the corporate authorities of\u001b[0m\n",
       "\u001b[92mcities, towns and villages with power to make local improvements by special assessment, or by special taxation of \u001b[0m\n",
       "\u001b[92mproperty ben-'\u001b[0m\n",
       "        \u001b[1m]\u001b[0m\n",
       "    \u001b[1m]\u001b[0m,\n",
       "    \u001b[92m'uris'\u001b[0m: \u001b[2;37mNone\u001b[0m,\n",
       "    \u001b[92m'data'\u001b[0m: \u001b[2;37mNone\u001b[0m,\n",
       "    \u001b[92m'included'\u001b[0m: \u001b[1m[\u001b[0m\u001b[92m'metadatas'\u001b[0m, \u001b[92m'documents'\u001b[0m, \u001b[92m'distances'\u001b[0m\u001b[1m]\u001b[0m\n",
       "\u001b[1m}\u001b[0m\n"
      ]
     },
     "metadata": {},
     "output_type": "display_data"
    }
   ],
   "source": [
    "console.print(hits)"
   ]
  },
  {
   "cell_type": "markdown",
   "metadata": {},
   "source": [
    "### Augmenting the search result\n",
    "\n",
    "You will iterate over all the search results and prepare them to the generation step. The main augmentation is the concatenation of the sourounding chunks text."
   ]
  },
  {
   "cell_type": "code",
   "execution_count": 19,
   "metadata": {},
   "outputs": [],
   "source": [
    "# define a variable to hold the search results with specific fields\n",
    "search_results = []\n",
    "\n",
    "for document, metadata in zip(hits[\"documents\"][0], hits[\"metadatas\"][0]):\n",
    "    doc_url = metadata[\"doc_url\"]\n",
    "    chunk_index = metadata[\"chunk_index\"]\n",
    "    doc_id = generate_uuid(doc_url, chunk_index)\n",
    "    # Calculate the chunk IDs of the previous and next chunks\n",
    "    previous_chunk_id = generate_uuid(doc_url, chunk_index-1)\n",
    "    next_chunk_id = generate_uuid(doc_url, chunk_index+1)\n",
    "    # Get the chunks from the vector collection with the chunk ids.\n",
    "    previous_chunk = collection.get(ids=[previous_chunk_id])\n",
    "    next_chunk = collection.get(ids=[next_chunk_id])\n",
    "    search_results.append({\n",
    "        # Concatenate the previous, current, and next document chunks to form a single document\n",
    "        \"document\": f\"{previous_chunk['documents'][0]} {document} {next_chunk['documents'][0]}\",\n",
    "        \"metadata\": metadata,\n",
    "    })"
   ]
  },
  {
   "cell_type": "markdown",
   "metadata": {},
   "source": [
    "Let's print the first search result, before sending it to the generation model:"
   ]
  },
  {
   "cell_type": "code",
   "execution_count": 20,
   "metadata": {},
   "outputs": [
    {
     "data": {
      "text/html": [
       "<pre style=\"white-space:pre;overflow-x:auto;line-height:normal;font-family:Menlo,'DejaVu Sans Mono',consolas,'Courier New',monospace\"><span style=\"font-weight: bold\">{</span>\n",
       "    <span style=\"color: #00ff00; text-decoration-color: #00ff00\">'document'</span>: <span style=\"color: #00ff00; text-decoration-color: #00ff00\">'v. Stump, 185 Wn.2d 454, 460, 374 P.3d 89 </span><span style=\"color: #00ff00; text-decoration-color: #00ff00; font-weight: bold\">(</span><span style=\"color: #00ff00; text-decoration-color: #00ff00\">2016</span><span style=\"color: #00ff00; text-decoration-color: #00ff00; font-weight: bold\">)</span><span style=\"color: #00ff00; text-decoration-color: #00ff00\">. “We determine that intent by examining the </span>\n",
       "<span style=\"color: #00ff00; text-decoration-color: #00ff00\">rule’s plain lan- guage not in isolation but in context, considering related provisions, and in light of the </span>\n",
       "<span style=\"color: #00ff00; text-decoration-color: #00ff00\">statutory or rule-making scheme as a whole.” Id. Furthermore, our Supreme Court has noted that “RAP 14.2 is not the</span>\n",
       "<span style=\"color: #00ff00; text-decoration-color: #00ff00\">exclusive means for dealing with all situations resulting in an affirmance of a trial court decision,” and that </span>\n",
       "<span style=\"color: #00ff00; text-decoration-color: #00ff00\">“</span><span style=\"color: #00ff00; text-decoration-color: #00ff00; font-weight: bold\">[</span><span style=\"color: #00ff00; text-decoration-color: #00ff00\">t</span><span style=\"color: #00ff00; text-decoration-color: #00ff00; font-weight: bold\">]</span><span style=\"color: #00ff00; text-decoration-color: #00ff00\">he RAPs are instead designed to allocate appellate costs in a fair and equitable manner depending on the </span>\n",
       "<span style=\"color: #00ff00; text-decoration-color: #00ff00\">realities of the case.”Id. at 461. Finally, we may invoke RAP 1.2</span><span style=\"color: #00ff00; text-decoration-color: #00ff00; font-weight: bold\">(</span><span style=\"color: #00ff00; text-decoration-color: #00ff00\">c</span><span style=\"color: #00ff00; text-decoration-color: #00ff00; font-weight: bold\">)</span><span style=\"color: #00ff00; text-decoration-color: #00ff00\"> to waive or alter the provisions of the Rules </span>\n",
       "<span style=\"color: #00ff00; text-decoration-color: #00ff00\">of Appellate Procedure in order to serve the ends of justice. - The strict interpretation of RAP 14.2 would require</span>\n",
       "<span style=\"color: #00ff00; text-decoration-color: #00ff00\">a defendant to object to appellate costs either in briefing, before even knowing which party prevails, or on </span>\n",
       "<span style=\"color: #00ff00; text-decoration-color: #00ff00\">reconsideration, when the defendant may or may not know if the State is requesting costs. Only with the commission-</span>\n",
       "<span style=\"color: #00ff00; text-decoration-color: #00ff00\">er’s decision is there an order imposing costs on a defendant who did not prevail on appeal.1 That, then, is a </span>\n",
       "<span style=\"color: #00ff00; text-decoration-color: #00ff00\">fair, logical, and appropriate time to require a defendant to challenge those costs, although a defendant may </span>\n",
       "<span style=\"color: #00ff00; text-decoration-color: #00ff00\">continue to properly 1 Both a motion for reconsideration and an objection to cost bill generally must ----- </span>\n",
       "<span style=\"color: #00ff00; text-decoration-color: #00ff00; font-weight: bold\">&lt;</span><span style=\"color: #7fff7f; text-decoration-color: #7fff7f\">page_break_684</span><span style=\"color: #00ff00; text-decoration-color: #00ff00; font-weight: bold\">&gt;</span><span style=\"color: #00ff00; text-decoration-color: #00ff00\"> raise the issue of appellate costs in briefing or a motion for reconsideration consistently with </span>\n",
       "<span style=\"color: #00ff00; text-decoration-color: #00ff00\">Sinclair.2 - 0 Our Supreme Court has acknowledged the difficult issues surrounding the assignment of costs to </span>\n",
       "<span style=\"color: #00ff00; text-decoration-color: #00ff00\">indigent defendants. In State v. Blazina, the court catalogued the potential impediments to meaningful </span>\n",
       "<span style=\"color: #00ff00; text-decoration-color: #00ff00\">postincarceration re- integration caused by burdening indigent defendants with costs that will only swell with </span>\n",
       "<span style=\"color: #00ff00; text-decoration-color: #00ff00\">interest under a low payment plan. 182 Wn.2d 827, 344 P.3d 680 </span><span style=\"color: #00ff00; text-decoration-color: #00ff00; font-weight: bold\">(</span><span style=\"color: #00ff00; text-decoration-color: #00ff00\">2015</span><span style=\"color: #00ff00; text-decoration-color: #00ff00; font-weight: bold\">)</span><span style=\"color: #00ff00; text-decoration-color: #00ff00\">. The court explained that indigent offenders </span>\n",
       "<span style=\"color: #00ff00; text-decoration-color: #00ff00\">are disproportionately weighed down by legal costs compared to wealthier offend- ers, who are less likely to fall </span>\n",
       "<span style=\"color: #00ff00; text-decoration-color: #00ff00\">behind on payments and become subject to additional interest and fees. Id. at 836. Once encumbered by legal costs, </span>\n",
       "<span style=\"color: #00ff00; text-decoration-color: #00ff00\">an indigent offender is likely to encounter problems securing employment, hous- ing, or financing because </span>\n",
       "<span style=\"color: #00ff00; text-decoration-color: #00ff00\">background checks will indicate an active court record for unpaid costs. Id. at 837. These difficulties are similar</span>\n",
       "<span style=\"color: #00ff00; text-decoration-color: #00ff00\">to, if not the same as, the difficulties implicated in Grant’s challenge. - 1 As already noted, a motion to modify </span>\n",
       "<span style=\"color: #00ff00; text-decoration-color: #00ff00\">is generally the first opportunity to challenge an award of appellate costs after the award has been made. That </span>\n",
       "<span style=\"color: #00ff00; text-decoration-color: #00ff00\">timing along with the problems caused by levying court costs on the indigent, the limited holding of Sinclair, and </span>\n",
       "<span style=\"color: #00ff00; text-decoration-color: #00ff00\">the legislative intent that the appellate court exercise discretion over imposing appel- late costs all counsel </span>\n",
       "<span style=\"color: #00ff00; text-decoration-color: #00ff00\">that RAP 14.2 should be read to allow Grant to challenge appellate costs for the first time in his motion to modify</span>\n",
       "<span style=\"color: #00ff00; text-decoration-color: #00ff00\">the commissioner’s ruling where he has previously filed an objection to the cost bill. - 2 In addition, we have </span>\n",
       "<span style=\"color: #00ff00; text-decoration-color: #00ff00\">authority to determine “costs in all cases after the filing of a decision terminating review.” RAP 14.1</span><span style=\"color: #00ff00; text-decoration-color: #00ff00; font-weight: bold\">(</span><span style=\"color: #00ff00; text-decoration-color: #00ff00\">a</span><span style=\"color: #00ff00; text-decoration-color: #00ff00; font-weight: bold\">)</span><span style=\"color: #00ff00; text-decoration-color: #00ff00\"> </span>\n",
       "<span style=\"color: #00ff00; text-decoration-color: #00ff00; font-weight: bold\">(</span><span style=\"color: #00ff00; text-decoration-color: #00ff00\">emphasis added</span><span style=\"color: #00ff00; text-decoration-color: #00ff00; font-weight: bold\">)</span><span style=\"color: #00ff00; text-decoration-color: #00ff00\">. To the extent that a com- missioner’s ruling on costs may be appealed to the appellate court </span>\n",
       "<span style=\"color: #00ff00; text-decoration-color: #00ff00\">under RAP 17.7, we thus retain ultimate discretion as 2A new proposed amendment to RAP 14.2 is anticipated from the</span>\n",
       "<span style=\"color: #00ff00; text-decoration-color: #00ff00\">Supreme'</span>,\n",
       "    <span style=\"color: #00ff00; text-decoration-color: #00ff00\">'metadata'</span>: <span style=\"font-weight: bold\">{</span>\n",
       "        <span style=\"color: #00ff00; text-decoration-color: #00ff00\">'chunk_index'</span>: <span style=\"color: #ff0000; text-decoration-color: #ff0000\">1456</span>,\n",
       "        <span style=\"color: #00ff00; text-decoration-color: #00ff00\">'doc_url'</span>: <span style=\"color: #00ff00; text-decoration-color: #00ff00\">'https://static.case.law/wash-app/196.pdf'</span>,\n",
       "        <span style=\"color: #00ff00; text-decoration-color: #00ff00\">'page'</span>: <span style=\"color: #00ff00; text-decoration-color: #00ff00\">'684'</span>,\n",
       "        <span style=\"color: #00ff00; text-decoration-color: #00ff00\">'state'</span>: <span style=\"color: #00ff00; text-decoration-color: #00ff00\">'Washington'</span>,\n",
       "        <span style=\"color: #00ff00; text-decoration-color: #00ff00\">'title'</span>: <span style=\"color: #00ff00; text-decoration-color: #00ff00\">'Washington Appellate Reports volume 196'</span>\n",
       "    <span style=\"font-weight: bold\">}</span>\n",
       "<span style=\"font-weight: bold\">}</span>\n",
       "</pre>\n"
      ],
      "text/plain": [
       "\u001b[1m{\u001b[0m\n",
       "    \u001b[92m'document'\u001b[0m: \u001b[92m'v. Stump, 185 Wn.2d 454, 460, 374 P.3d 89 \u001b[0m\u001b[1;92m(\u001b[0m\u001b[92m2016\u001b[0m\u001b[1;92m)\u001b[0m\u001b[92m. “We determine that intent by examining the \u001b[0m\n",
       "\u001b[92mrule’s plain lan- guage not in isolation but in context, considering related provisions, and in light of the \u001b[0m\n",
       "\u001b[92mstatutory or rule-making scheme as a whole.” Id. Furthermore, our Supreme Court has noted that “RAP 14.2 is not the\u001b[0m\n",
       "\u001b[92mexclusive means for dealing with all situations resulting in an affirmance of a trial court decision,” and that \u001b[0m\n",
       "\u001b[92m“\u001b[0m\u001b[1;92m[\u001b[0m\u001b[92mt\u001b[0m\u001b[1;92m]\u001b[0m\u001b[92mhe RAPs are instead designed to allocate appellate costs in a fair and equitable manner depending on the \u001b[0m\n",
       "\u001b[92mrealities of the case.”Id. at 461. Finally, we may invoke RAP 1.2\u001b[0m\u001b[1;92m(\u001b[0m\u001b[92mc\u001b[0m\u001b[1;92m)\u001b[0m\u001b[92m to waive or alter the provisions of the Rules \u001b[0m\n",
       "\u001b[92mof Appellate Procedure in order to serve the ends of justice. - The strict interpretation of RAP 14.2 would require\u001b[0m\n",
       "\u001b[92ma defendant to object to appellate costs either in briefing, before even knowing which party prevails, or on \u001b[0m\n",
       "\u001b[92mreconsideration, when the defendant may or may not know if the State is requesting costs. Only with the commission-\u001b[0m\n",
       "\u001b[92mer’s decision is there an order imposing costs on a defendant who did not prevail on appeal.1 That, then, is a \u001b[0m\n",
       "\u001b[92mfair, logical, and appropriate time to require a defendant to challenge those costs, although a defendant may \u001b[0m\n",
       "\u001b[92mcontinue to properly 1 Both a motion for reconsideration and an objection to cost bill generally must ----- \u001b[0m\n",
       "\u001b[1;92m<\u001b[0m\u001b[2;92mpage_break_684\u001b[0m\u001b[1;92m>\u001b[0m\u001b[92m raise the issue of appellate costs in briefing or a motion for reconsideration consistently with \u001b[0m\n",
       "\u001b[92mSinclair.2 - 0 Our Supreme Court has acknowledged the difficult issues surrounding the assignment of costs to \u001b[0m\n",
       "\u001b[92mindigent defendants. In State v. Blazina, the court catalogued the potential impediments to meaningful \u001b[0m\n",
       "\u001b[92mpostincarceration re- integration caused by burdening indigent defendants with costs that will only swell with \u001b[0m\n",
       "\u001b[92minterest under a low payment plan. 182 Wn.2d 827, 344 P.3d 680 \u001b[0m\u001b[1;92m(\u001b[0m\u001b[92m2015\u001b[0m\u001b[1;92m)\u001b[0m\u001b[92m. The court explained that indigent offenders \u001b[0m\n",
       "\u001b[92mare disproportionately weighed down by legal costs compared to wealthier offend- ers, who are less likely to fall \u001b[0m\n",
       "\u001b[92mbehind on payments and become subject to additional interest and fees. Id. at 836. Once encumbered by legal costs, \u001b[0m\n",
       "\u001b[92man indigent offender is likely to encounter problems securing employment, hous- ing, or financing because \u001b[0m\n",
       "\u001b[92mbackground checks will indicate an active court record for unpaid costs. Id. at 837. These difficulties are similar\u001b[0m\n",
       "\u001b[92mto, if not the same as, the difficulties implicated in Grant’s challenge. - 1 As already noted, a motion to modify \u001b[0m\n",
       "\u001b[92mis generally the first opportunity to challenge an award of appellate costs after the award has been made. That \u001b[0m\n",
       "\u001b[92mtiming along with the problems caused by levying court costs on the indigent, the limited holding of Sinclair, and \u001b[0m\n",
       "\u001b[92mthe legislative intent that the appellate court exercise discretion over imposing appel- late costs all counsel \u001b[0m\n",
       "\u001b[92mthat RAP 14.2 should be read to allow Grant to challenge appellate costs for the first time in his motion to modify\u001b[0m\n",
       "\u001b[92mthe commissioner’s ruling where he has previously filed an objection to the cost bill. - 2 In addition, we have \u001b[0m\n",
       "\u001b[92mauthority to determine “costs in all cases after the filing of a decision terminating review.” RAP 14.1\u001b[0m\u001b[1;92m(\u001b[0m\u001b[92ma\u001b[0m\u001b[1;92m)\u001b[0m\u001b[92m \u001b[0m\n",
       "\u001b[1;92m(\u001b[0m\u001b[92memphasis added\u001b[0m\u001b[1;92m)\u001b[0m\u001b[92m. To the extent that a com- missioner’s ruling on costs may be appealed to the appellate court \u001b[0m\n",
       "\u001b[92munder RAP 17.7, we thus retain ultimate discretion as 2A new proposed amendment to RAP 14.2 is anticipated from the\u001b[0m\n",
       "\u001b[92mSupreme'\u001b[0m,\n",
       "    \u001b[92m'metadata'\u001b[0m: \u001b[1m{\u001b[0m\n",
       "        \u001b[92m'chunk_index'\u001b[0m: \u001b[91m1456\u001b[0m,\n",
       "        \u001b[92m'doc_url'\u001b[0m: \u001b[92m'https://static.case.law/wash-app/196.pdf'\u001b[0m,\n",
       "        \u001b[92m'page'\u001b[0m: \u001b[92m'684'\u001b[0m,\n",
       "        \u001b[92m'state'\u001b[0m: \u001b[92m'Washington'\u001b[0m,\n",
       "        \u001b[92m'title'\u001b[0m: \u001b[92m'Washington Appellate Reports volume 196'\u001b[0m\n",
       "    \u001b[1m}\u001b[0m\n",
       "\u001b[1m}\u001b[0m\n"
      ]
     },
     "metadata": {},
     "output_type": "display_data"
    }
   ],
   "source": [
    "console.print(search_results[0])"
   ]
  },
  {
   "cell_type": "code",
   "execution_count": 22,
   "metadata": {},
   "outputs": [
    {
     "data": {
      "text/html": [
       "<pre style=\"white-space:pre;overflow-x:auto;line-height:normal;font-family:Menlo,'DejaVu Sans Mono',consolas,'Courier New',monospace\"><span style=\"color: #ffff00; text-decoration-color: #ffff00\">╭────────────────────────────────────── Reply to 'cases about loan default' ──────────────────────────────────────╮</span>\n",
       "<span style=\"color: #ffff00; text-decoration-color: #ffff00\">│</span>                                                                                                                 <span style=\"color: #ffff00; text-decoration-color: #ffff00\">│</span>\n",
       "<span style=\"color: #ffff00; text-decoration-color: #ffff00\">│</span> Here are some cases that discuss issues of loan default:                                                        <span style=\"color: #ffff00; text-decoration-color: #ffff00\">│</span>\n",
       "<span style=\"color: #ffff00; text-decoration-color: #ffff00\">│</span>                                                                                                                 <span style=\"color: #ffff00; text-decoration-color: #ffff00\">│</span>\n",
       "<span style=\"color: #ffff00; text-decoration-color: #ffff00\">│</span> 1. v. Stump: The case examines a rule in a particular context, considering related provisions and the whole     <span style=\"color: #ffff00; text-decoration-color: #ffff00\">│</span>\n",
       "<span style=\"color: #ffff00; text-decoration-color: #ffff00\">│</span> statutory or rule-making scheme. (Washington Appellate Reports volume 196, Page 684)                            <span style=\"color: #ffff00; text-decoration-color: #ffff00\">│</span>\n",
       "<span style=\"color: #ffff00; text-decoration-color: #ffff00\">│</span> [Source](https://static.case.law/wash-app/196.pdf)                                                              <span style=\"color: #ffff00; text-decoration-color: #ffff00\">│</span>\n",
       "<span style=\"color: #ffff00; text-decoration-color: #ffff00\">│</span>                                                                                                                 <span style=\"color: #ffff00; text-decoration-color: #ffff00\">│</span>\n",
       "<span style=\"color: #ffff00; text-decoration-color: #ffff00\">│</span> 2. Hassan Farah et al., v. Hertz Transporting, Inc., et al.: The details of this case aren't provided in the    <span style=\"color: #ffff00; text-decoration-color: #ffff00\">│</span>\n",
       "<span style=\"color: #ffff00; text-decoration-color: #ffff00\">│</span> given excerpt but it might be relevant for you to look up more details. (Washington Appellate Reports volume    <span style=\"color: #ffff00; text-decoration-color: #ffff00\">│</span>\n",
       "<span style=\"color: #ffff00; text-decoration-color: #ffff00\">│</span> 196, Page 205) [Source](https://static.case.law/wash-app/196.pdf)                                               <span style=\"color: #ffff00; text-decoration-color: #ffff00\">│</span>\n",
       "<span style=\"color: #ffff00; text-decoration-color: #ffff00\">│</span>                                                                                                                 <span style=\"color: #ffff00; text-decoration-color: #ffff00\">│</span>\n",
       "<span style=\"color: #ffff00; text-decoration-color: #ffff00\">│</span> 3. Town of Tekoa v. Reilly: This case is discussing property tax exemptions, which may be pertinent if there's  <span style=\"color: #ffff00; text-decoration-color: #ffff00\">│</span>\n",
       "<span style=\"color: #ffff00; text-decoration-color: #ffff00\">│</span> a connection to property involved in the loan default. (Washington Appellate Reports volume 196, Page 136)      <span style=\"color: #ffff00; text-decoration-color: #ffff00\">│</span>\n",
       "<span style=\"color: #ffff00; text-decoration-color: #ffff00\">│</span> [Source](https://static.case.law/wash-app/196.pdf))                                                             <span style=\"color: #ffff00; text-decoration-color: #ffff00\">│</span>\n",
       "<span style=\"color: #ffff00; text-decoration-color: #ffff00\">│</span>                                                                                                                 <span style=\"color: #ffff00; text-decoration-color: #ffff00\">│</span>\n",
       "<span style=\"color: #ffff00; text-decoration-color: #ffff00\">│</span> These cases may give some insight into handling similar situations involving loan defaults. Please provide more <span style=\"color: #ffff00; text-decoration-color: #ffff00\">│</span>\n",
       "<span style=\"color: #ffff00; text-decoration-color: #ffff00\">│</span> specific details if you need cases relating to a particular aspect of loan default.                             <span style=\"color: #ffff00; text-decoration-color: #ffff00\">│</span>\n",
       "<span style=\"color: #ffff00; text-decoration-color: #ffff00\">│</span>                                                                                                                 <span style=\"color: #ffff00; text-decoration-color: #ffff00\">│</span>\n",
       "<span style=\"color: #ffff00; text-decoration-color: #ffff00\">╰─────────────────────────────────────────────────────────────────────────────────────────────────────────────────╯</span>\n",
       "</pre>\n"
      ],
      "text/plain": [
       "\u001b[93m╭─\u001b[0m\u001b[93m─────────────────────────────────────\u001b[0m\u001b[93m Reply to 'cases about loan default' \u001b[0m\u001b[93m─────────────────────────────────────\u001b[0m\u001b[93m─╮\u001b[0m\n",
       "\u001b[93m│\u001b[0m                                                                                                                 \u001b[93m│\u001b[0m\n",
       "\u001b[93m│\u001b[0m Here are some cases that discuss issues of loan default:                                                        \u001b[93m│\u001b[0m\n",
       "\u001b[93m│\u001b[0m                                                                                                                 \u001b[93m│\u001b[0m\n",
       "\u001b[93m│\u001b[0m 1. v. Stump: The case examines a rule in a particular context, considering related provisions and the whole     \u001b[93m│\u001b[0m\n",
       "\u001b[93m│\u001b[0m statutory or rule-making scheme. (Washington Appellate Reports volume 196, Page 684)                            \u001b[93m│\u001b[0m\n",
       "\u001b[93m│\u001b[0m [Source](https://static.case.law/wash-app/196.pdf)                                                              \u001b[93m│\u001b[0m\n",
       "\u001b[93m│\u001b[0m                                                                                                                 \u001b[93m│\u001b[0m\n",
       "\u001b[93m│\u001b[0m 2. Hassan Farah et al., v. Hertz Transporting, Inc., et al.: The details of this case aren't provided in the    \u001b[93m│\u001b[0m\n",
       "\u001b[93m│\u001b[0m given excerpt but it might be relevant for you to look up more details. (Washington Appellate Reports volume    \u001b[93m│\u001b[0m\n",
       "\u001b[93m│\u001b[0m 196, Page 205) [Source](https://static.case.law/wash-app/196.pdf)                                               \u001b[93m│\u001b[0m\n",
       "\u001b[93m│\u001b[0m                                                                                                                 \u001b[93m│\u001b[0m\n",
       "\u001b[93m│\u001b[0m 3. Town of Tekoa v. Reilly: This case is discussing property tax exemptions, which may be pertinent if there's  \u001b[93m│\u001b[0m\n",
       "\u001b[93m│\u001b[0m a connection to property involved in the loan default. (Washington Appellate Reports volume 196, Page 136)      \u001b[93m│\u001b[0m\n",
       "\u001b[93m│\u001b[0m [Source](https://static.case.law/wash-app/196.pdf))                                                             \u001b[93m│\u001b[0m\n",
       "\u001b[93m│\u001b[0m                                                                                                                 \u001b[93m│\u001b[0m\n",
       "\u001b[93m│\u001b[0m These cases may give some insight into handling similar situations involving loan defaults. Please provide more \u001b[93m│\u001b[0m\n",
       "\u001b[93m│\u001b[0m specific details if you need cases relating to a particular aspect of loan default.                             \u001b[93m│\u001b[0m\n",
       "\u001b[93m│\u001b[0m                                                                                                                 \u001b[93m│\u001b[0m\n",
       "\u001b[93m╰─────────────────────────────────────────────────────────────────────────────────────────────────────────────────╯\u001b[0m\n"
      ]
     },
     "metadata": {},
     "output_type": "display_data"
    }
   ],
   "source": [
    "from openai import OpenAI\n",
    "from rich.panel import Panel\n",
    "from rich.text import Text\n",
    "\n",
    "client = OpenAI()\n",
    "system_message = \"\"\"\n",
    "You are a paralegal specialist. \n",
    "Your top priority is to help lawyers find information in a large legal corpus and help them with their requests. \n",
    "Please include citation to the document and the page number.\n",
    "\"\"\"\n",
    "completion = client.chat.completions.create(\n",
    "    model=\"gpt-4\",\n",
    "    messages=[\n",
    "        {\"role\": \"system\", \"content\": system_message},\n",
    "        {\"role\": \"user\", \"content\": query_text},\n",
    "        {\"role\": \"assistant\", \"content\": str(search_results)}\n",
    "    ]\n",
    ")\n",
    "\n",
    "response_text = Text(completion.choices[0].message.content)\n",
    "styled_panel = Panel(\n",
    "    response_text,\n",
    "    title=f\"Reply to '{query_text}'\",\n",
    "    expand=False,\n",
    "    border_style=\"bright_yellow\",\n",
    "    padding=(1, 1)\n",
    ")\n",
    "\n",
    "console.print(styled_panel)"
   ]
  },
  {
   "cell_type": "code",
   "execution_count": null,
   "metadata": {},
   "outputs": [],
   "source": []
  }
 ],
 "metadata": {
  "kernelspec": {
   "display_name": ".venv",
   "language": "python",
   "name": "python3"
  },
  "language_info": {
   "codemirror_mode": {
    "name": "ipython",
    "version": 3
   },
   "file_extension": ".py",
   "mimetype": "text/x-python",
   "name": "python",
   "nbconvert_exporter": "python",
   "pygments_lexer": "ipython3",
   "version": "3.11.0"
  }
 },
 "nbformat": 4,
 "nbformat_minor": 2
}
